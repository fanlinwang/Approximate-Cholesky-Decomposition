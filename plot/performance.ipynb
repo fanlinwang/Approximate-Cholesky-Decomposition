{
 "cells": [
  {
   "cell_type": "code",
   "execution_count": 2,
   "metadata": {},
   "outputs": [],
   "source": [
    "import re\n",
    "import numpy as np    \n",
    "import pandas as pd\n",
    "import plotly.express as px\n",
    "import plotly.graph_objects as go\n",
    "import plotly.io as pio\n",
    "num_font = dict(size=20,color='#000000')\n",
    "default_font = dict(family=\"Helvetica Neue\",size=24,color='#000000')\n",
    "#colors=px.colors.sequential.deep[2:]  # Candidate: Prism\n",
    "colors=px.colors.sequential.Cividis[::-1][1:]\n",
    "colorq=px.colors.qualitative.Dark24\n",
    "color_def=['#838060', '#4f3222','#cab577','#7e4a35','#a79e84', '#563f46','#8ca3a3', '#484f4f', '#bd5734','#625750','#587e76', '#7a3b2e', '#a96e5b', '#98A762', '#443586']\n",
    "marker_symbols=['circle','square','diamond','cross','triangle-up-open','pentagon','hexagram','star','hourglass', 'octagon', 'star-open-dot', 'hexagram-open', 'pentagon-open-dot', 'triangle-down-open','triangle-open-closed']"
   ]
  },
  {
   "cell_type": "code",
   "execution_count": 3,
   "metadata": {},
   "outputs": [
    {
     "output_type": "execute_result",
     "data": {
      "text/plain": "16"
     },
     "metadata": {},
     "execution_count": 3
    }
   ],
   "source": [
    "vertice = [100,1000 ,5000, 10000 ,50000, 100000]\n",
    "edge = [200,500,1000,2000,5000,10000,20000,25000,40000,50000,80000,100000,500000, 1000000]\n",
    "# func_alias = ['Baseline', 'Inline', 'Inline+simd', 'Vec', 'VecMg', 'VecMgSIMD1', 'VecMgSIMD2', 'VecMgSIMD3', 'VecMgSIMD3csum', 'VecMgRand', 'VecMgRandSIMD1']\n",
    "func_alias = ['Baseline', 'Inline', 'Inline+simd', 'V1', 'V1Mg', 'V1MgSIMD', 'V1MgSIMD2', 'V1MgRd', 'V1MgRdSIMD', 'V1MgBS', 'V1MgBSSIMD', 'V2Mg','V2MgSIMD', 'V2MgBS', 'V2MgBSSIMD', 'V2MgSearch_nofree']\n",
    "len(func_alias)"
   ]
  },
  {
   "cell_type": "code",
   "execution_count": 4,
   "metadata": {},
   "outputs": [
    {
     "output_type": "execute_result",
     "data": {
      "text/plain": "          V        E     flops   flcomps     intops   intcomps      total  \\\n0       100      200      4797      1973       3687      10608      21065   \n1       100      200      4797      1973       3687      10608      21065   \n2       100      200      4797      1973       3687      10608      21065   \n3       100      200      4797      1973       3687      10608      21065   \n4       100      200      4797      1973       3687      10608      21065   \n..      ...      ...       ...       ...        ...        ...        ...   \n459  100000  1000000  65709219  66030414  110269360  266252528  508261521   \n460  100000  1000000  65709219  66030414  110269360  266252528  508261521   \n461  100000  1000000  65709219  66030414  110269360  266252528  508261521   \n462  100000  1000000  65709219  66030414  110269360  266252528  508261521   \n463  100000  1000000  65709219  66030414  110269360  266252528  508261521   \n\n           cycles  flops/cycle   E/V  \n0    1.428210e+05     0.147492   2.0  \n1    8.898400e+04     0.236728   2.0  \n2    1.495780e+05     0.140829   2.0  \n3    1.260840e+05     0.167071   2.0  \n4    1.448340e+05     0.145443   2.0  \n..            ...          ...   ...  \n459  4.424210e+09     0.114882  10.0  \n460  4.340860e+09     0.117088  10.0  \n461  4.005200e+09     0.126900  10.0  \n462  3.813540e+09     0.133278  10.0  \n463  4.351730e+09     0.116795  10.0  \n\n[464 rows x 10 columns]",
      "text/html": "<div>\n<style scoped>\n    .dataframe tbody tr th:only-of-type {\n        vertical-align: middle;\n    }\n\n    .dataframe tbody tr th {\n        vertical-align: top;\n    }\n\n    .dataframe thead th {\n        text-align: right;\n    }\n</style>\n<table border=\"1\" class=\"dataframe\">\n  <thead>\n    <tr style=\"text-align: right;\">\n      <th></th>\n      <th>V</th>\n      <th>E</th>\n      <th>flops</th>\n      <th>flcomps</th>\n      <th>intops</th>\n      <th>intcomps</th>\n      <th>total</th>\n      <th>cycles</th>\n      <th>flops/cycle</th>\n      <th>E/V</th>\n    </tr>\n  </thead>\n  <tbody>\n    <tr>\n      <th>0</th>\n      <td>100</td>\n      <td>200</td>\n      <td>4797</td>\n      <td>1973</td>\n      <td>3687</td>\n      <td>10608</td>\n      <td>21065</td>\n      <td>1.428210e+05</td>\n      <td>0.147492</td>\n      <td>2.0</td>\n    </tr>\n    <tr>\n      <th>1</th>\n      <td>100</td>\n      <td>200</td>\n      <td>4797</td>\n      <td>1973</td>\n      <td>3687</td>\n      <td>10608</td>\n      <td>21065</td>\n      <td>8.898400e+04</td>\n      <td>0.236728</td>\n      <td>2.0</td>\n    </tr>\n    <tr>\n      <th>2</th>\n      <td>100</td>\n      <td>200</td>\n      <td>4797</td>\n      <td>1973</td>\n      <td>3687</td>\n      <td>10608</td>\n      <td>21065</td>\n      <td>1.495780e+05</td>\n      <td>0.140829</td>\n      <td>2.0</td>\n    </tr>\n    <tr>\n      <th>3</th>\n      <td>100</td>\n      <td>200</td>\n      <td>4797</td>\n      <td>1973</td>\n      <td>3687</td>\n      <td>10608</td>\n      <td>21065</td>\n      <td>1.260840e+05</td>\n      <td>0.167071</td>\n      <td>2.0</td>\n    </tr>\n    <tr>\n      <th>4</th>\n      <td>100</td>\n      <td>200</td>\n      <td>4797</td>\n      <td>1973</td>\n      <td>3687</td>\n      <td>10608</td>\n      <td>21065</td>\n      <td>1.448340e+05</td>\n      <td>0.145443</td>\n      <td>2.0</td>\n    </tr>\n    <tr>\n      <th>...</th>\n      <td>...</td>\n      <td>...</td>\n      <td>...</td>\n      <td>...</td>\n      <td>...</td>\n      <td>...</td>\n      <td>...</td>\n      <td>...</td>\n      <td>...</td>\n      <td>...</td>\n    </tr>\n    <tr>\n      <th>459</th>\n      <td>100000</td>\n      <td>1000000</td>\n      <td>65709219</td>\n      <td>66030414</td>\n      <td>110269360</td>\n      <td>266252528</td>\n      <td>508261521</td>\n      <td>4.424210e+09</td>\n      <td>0.114882</td>\n      <td>10.0</td>\n    </tr>\n    <tr>\n      <th>460</th>\n      <td>100000</td>\n      <td>1000000</td>\n      <td>65709219</td>\n      <td>66030414</td>\n      <td>110269360</td>\n      <td>266252528</td>\n      <td>508261521</td>\n      <td>4.340860e+09</td>\n      <td>0.117088</td>\n      <td>10.0</td>\n    </tr>\n    <tr>\n      <th>461</th>\n      <td>100000</td>\n      <td>1000000</td>\n      <td>65709219</td>\n      <td>66030414</td>\n      <td>110269360</td>\n      <td>266252528</td>\n      <td>508261521</td>\n      <td>4.005200e+09</td>\n      <td>0.126900</td>\n      <td>10.0</td>\n    </tr>\n    <tr>\n      <th>462</th>\n      <td>100000</td>\n      <td>1000000</td>\n      <td>65709219</td>\n      <td>66030414</td>\n      <td>110269360</td>\n      <td>266252528</td>\n      <td>508261521</td>\n      <td>3.813540e+09</td>\n      <td>0.133278</td>\n      <td>10.0</td>\n    </tr>\n    <tr>\n      <th>463</th>\n      <td>100000</td>\n      <td>1000000</td>\n      <td>65709219</td>\n      <td>66030414</td>\n      <td>110269360</td>\n      <td>266252528</td>\n      <td>508261521</td>\n      <td>4.351730e+09</td>\n      <td>0.116795</td>\n      <td>10.0</td>\n    </tr>\n  </tbody>\n</table>\n<p>464 rows × 10 columns</p>\n</div>"
     },
     "metadata": {},
     "execution_count": 4
    }
   ],
   "source": [
    "# extract data from 'exact_cycle.txt'\n",
    "datalist = []\n",
    "header=['V', 'E', 'flops','flcomps', 'intops', 'intcomps', 'total', 'cycles','flops/cycle']\n",
    "with open(\"./exact_cycle.txt\", 'r') as f:\n",
    "    for line in f:\n",
    "        line = line.split()\n",
    "        num = [int(x.replace(',', '').strip()) for x in line[:-3]]\n",
    "        num.append(float(line[-3]))\n",
    "        num.append(float(line[-2]))\n",
    "        datalist.append(num)\n",
    "res = pd.DataFrame(datalist, columns=header)\n",
    "res = res.convert_dtypes()\n",
    "res['E/V'] = res['E']/res['V']\n",
    "res"
   ]
  },
  {
   "cell_type": "code",
   "execution_count": 5,
   "metadata": {},
   "outputs": [],
   "source": [
    "# extract data from runtime.log\n",
    "runtime = []\n",
    "with open(\"./runtime.txt\", 'r') as f:\n",
    "    for line in f:\n",
    "        line = line.split()\n",
    "        runtime.extend(line[2:])\n",
    "res['runtime'] = runtime"
   ]
  },
  {
   "cell_type": "code",
   "execution_count": 6,
   "metadata": {},
   "outputs": [
    {
     "output_type": "stream",
     "name": "stdout",
     "text": "29.0\n"
    },
    {
     "output_type": "execute_result",
     "data": {
      "text/plain": "          V        E     flops   flcomps     intops   intcomps      total  \\\n0       100      200      4797      1973       3687      10608      21065   \n1       100      200      4797      1973       3687      10608      21065   \n2       100      200      4797      1973       3687      10608      21065   \n3       100      200      4797      1973       3687      10608      21065   \n4       100      200      4797      1973       3687      10608      21065   \n..      ...      ...       ...       ...        ...        ...        ...   \n459  100000  1000000  65709219  66030414  110269360  266252528  508261521   \n460  100000  1000000  65709219  66030414  110269360  266252528  508261521   \n461  100000  1000000  65709219  66030414  110269360  266252528  508261521   \n462  100000  1000000  65709219  66030414  110269360  266252528  508261521   \n463  100000  1000000  65709219  66030414  110269360  266252528  508261521   \n\n           cycles  flops/cycle   E/V      runtime           function  \n0    1.428210e+05     0.147492   2.0  0.000117401           Baseline  \n1    8.898400e+04     0.236728   2.0     5.53e-05             Inline  \n2    1.495780e+05     0.140829   2.0  0.000108051        Inline+simd  \n3    1.260840e+05     0.167071   2.0  0.000112351                 V1  \n4    1.448340e+05     0.145443   2.0  7.67005e-05               V1Mg  \n..            ...          ...   ...          ...                ...  \n459  4.424210e+09     0.114882  10.0      1.84157               V2Mg  \n460  4.340860e+09     0.117088  10.0       1.9244           V2MgSIMD  \n461  4.005200e+09     0.126900  10.0      1.66807             V2MgBS  \n462  3.813540e+09     0.133278  10.0       1.6318         V2MgBSSIMD  \n463  4.351730e+09     0.116795  10.0      1.79513  V2MgSearch_nofree  \n\n[464 rows x 12 columns]",
      "text/html": "<div>\n<style scoped>\n    .dataframe tbody tr th:only-of-type {\n        vertical-align: middle;\n    }\n\n    .dataframe tbody tr th {\n        vertical-align: top;\n    }\n\n    .dataframe thead th {\n        text-align: right;\n    }\n</style>\n<table border=\"1\" class=\"dataframe\">\n  <thead>\n    <tr style=\"text-align: right;\">\n      <th></th>\n      <th>V</th>\n      <th>E</th>\n      <th>flops</th>\n      <th>flcomps</th>\n      <th>intops</th>\n      <th>intcomps</th>\n      <th>total</th>\n      <th>cycles</th>\n      <th>flops/cycle</th>\n      <th>E/V</th>\n      <th>runtime</th>\n      <th>function</th>\n    </tr>\n  </thead>\n  <tbody>\n    <tr>\n      <th>0</th>\n      <td>100</td>\n      <td>200</td>\n      <td>4797</td>\n      <td>1973</td>\n      <td>3687</td>\n      <td>10608</td>\n      <td>21065</td>\n      <td>1.428210e+05</td>\n      <td>0.147492</td>\n      <td>2.0</td>\n      <td>0.000117401</td>\n      <td>Baseline</td>\n    </tr>\n    <tr>\n      <th>1</th>\n      <td>100</td>\n      <td>200</td>\n      <td>4797</td>\n      <td>1973</td>\n      <td>3687</td>\n      <td>10608</td>\n      <td>21065</td>\n      <td>8.898400e+04</td>\n      <td>0.236728</td>\n      <td>2.0</td>\n      <td>5.53e-05</td>\n      <td>Inline</td>\n    </tr>\n    <tr>\n      <th>2</th>\n      <td>100</td>\n      <td>200</td>\n      <td>4797</td>\n      <td>1973</td>\n      <td>3687</td>\n      <td>10608</td>\n      <td>21065</td>\n      <td>1.495780e+05</td>\n      <td>0.140829</td>\n      <td>2.0</td>\n      <td>0.000108051</td>\n      <td>Inline+simd</td>\n    </tr>\n    <tr>\n      <th>3</th>\n      <td>100</td>\n      <td>200</td>\n      <td>4797</td>\n      <td>1973</td>\n      <td>3687</td>\n      <td>10608</td>\n      <td>21065</td>\n      <td>1.260840e+05</td>\n      <td>0.167071</td>\n      <td>2.0</td>\n      <td>0.000112351</td>\n      <td>V1</td>\n    </tr>\n    <tr>\n      <th>4</th>\n      <td>100</td>\n      <td>200</td>\n      <td>4797</td>\n      <td>1973</td>\n      <td>3687</td>\n      <td>10608</td>\n      <td>21065</td>\n      <td>1.448340e+05</td>\n      <td>0.145443</td>\n      <td>2.0</td>\n      <td>7.67005e-05</td>\n      <td>V1Mg</td>\n    </tr>\n    <tr>\n      <th>...</th>\n      <td>...</td>\n      <td>...</td>\n      <td>...</td>\n      <td>...</td>\n      <td>...</td>\n      <td>...</td>\n      <td>...</td>\n      <td>...</td>\n      <td>...</td>\n      <td>...</td>\n      <td>...</td>\n      <td>...</td>\n    </tr>\n    <tr>\n      <th>459</th>\n      <td>100000</td>\n      <td>1000000</td>\n      <td>65709219</td>\n      <td>66030414</td>\n      <td>110269360</td>\n      <td>266252528</td>\n      <td>508261521</td>\n      <td>4.424210e+09</td>\n      <td>0.114882</td>\n      <td>10.0</td>\n      <td>1.84157</td>\n      <td>V2Mg</td>\n    </tr>\n    <tr>\n      <th>460</th>\n      <td>100000</td>\n      <td>1000000</td>\n      <td>65709219</td>\n      <td>66030414</td>\n      <td>110269360</td>\n      <td>266252528</td>\n      <td>508261521</td>\n      <td>4.340860e+09</td>\n      <td>0.117088</td>\n      <td>10.0</td>\n      <td>1.9244</td>\n      <td>V2MgSIMD</td>\n    </tr>\n    <tr>\n      <th>461</th>\n      <td>100000</td>\n      <td>1000000</td>\n      <td>65709219</td>\n      <td>66030414</td>\n      <td>110269360</td>\n      <td>266252528</td>\n      <td>508261521</td>\n      <td>4.005200e+09</td>\n      <td>0.126900</td>\n      <td>10.0</td>\n      <td>1.66807</td>\n      <td>V2MgBS</td>\n    </tr>\n    <tr>\n      <th>462</th>\n      <td>100000</td>\n      <td>1000000</td>\n      <td>65709219</td>\n      <td>66030414</td>\n      <td>110269360</td>\n      <td>266252528</td>\n      <td>508261521</td>\n      <td>3.813540e+09</td>\n      <td>0.133278</td>\n      <td>10.0</td>\n      <td>1.6318</td>\n      <td>V2MgBSSIMD</td>\n    </tr>\n    <tr>\n      <th>463</th>\n      <td>100000</td>\n      <td>1000000</td>\n      <td>65709219</td>\n      <td>66030414</td>\n      <td>110269360</td>\n      <td>266252528</td>\n      <td>508261521</td>\n      <td>4.351730e+09</td>\n      <td>0.116795</td>\n      <td>10.0</td>\n      <td>1.79513</td>\n      <td>V2MgSearch_nofree</td>\n    </tr>\n  </tbody>\n</table>\n<p>464 rows × 12 columns</p>\n</div>"
     },
     "metadata": {},
     "execution_count": 6
    }
   ],
   "source": [
    "func_col = []\n",
    "print(len(res)/len(func_alias))\n",
    "for i in range(int(len(res)/len(func_alias))):\n",
    "    func_col.extend(func_alias)\n",
    "res['function'] = func_col\n",
    "res"
   ]
  },
  {
   "cell_type": "code",
   "execution_count": 6,
   "metadata": {},
   "outputs": [
    {
     "output_type": "display_data",
     "data": {
      "application/vnd.plotly.v1+json": {
       "config": {
        "plotlyServerURL": "https://plot.ly"
       },
       "data": [
        {
         "line": {
          "color": "#e1cc55",
          "width": 3
         },
         "marker": {
          "size": 10,
          "symbol": "circle"
         },
         "mode": "lines+markers",
         "name": "flcomp",
         "type": "scatter",
         "x": [
          20000,
          25000,
          40000,
          50000,
          80000,
          100000
         ],
         "y": [
          482300,
          726579,
          1462664,
          1978985,
          3619508,
          4767861
         ]
        },
        {
         "line": {
          "color": "#8a8678",
          "width": 3
         },
         "marker": {
          "size": 10,
          "symbol": "square"
         },
         "mode": "lines+markers",
         "name": "flops",
         "type": "scatter",
         "x": [
          20000,
          25000,
          40000,
          50000,
          80000,
          100000
         ],
         "y": [
          894746,
          1218467,
          2081249,
          2627265,
          4189354,
          5177165
         ]
        },
        {
         "line": {
          "color": "#3b496c",
          "width": 3
         },
         "marker": {
          "size": 10,
          "symbol": "diamond"
         },
         "mode": "lines+markers",
         "name": "intops",
         "type": "scatter",
         "x": [
          20000,
          25000,
          40000,
          50000,
          80000,
          100000
         ],
         "y": [
          853429,
          1262536,
          2519599,
          3380038,
          6134209,
          8020442
         ]
        },
        {
         "line": {
          "color": "#00224e",
          "width": 3
         },
         "marker": {
          "size": 10,
          "symbol": "cross"
         },
         "mode": "lines+markers",
         "name": "intcomp",
         "type": "scatter",
         "x": [
          20000,
          25000,
          40000,
          50000,
          80000,
          100000
         ],
         "y": [
          2263294,
          3302043,
          6429033,
          8537410,
          15154377,
          19613308
         ]
        }
       ],
       "layout": {
        "margin": {
         "autoexpand": true,
         "l": 40,
         "r": 10,
         "t": 50
        },
        "plot_bgcolor": "#eeeeee",
        "showlegend": false,
        "template": {
         "data": {
          "bar": [
           {
            "error_x": {
             "color": "#2a3f5f"
            },
            "error_y": {
             "color": "#2a3f5f"
            },
            "marker": {
             "line": {
              "color": "#E5ECF6",
              "width": 0.5
             }
            },
            "type": "bar"
           }
          ],
          "barpolar": [
           {
            "marker": {
             "line": {
              "color": "#E5ECF6",
              "width": 0.5
             }
            },
            "type": "barpolar"
           }
          ],
          "carpet": [
           {
            "aaxis": {
             "endlinecolor": "#2a3f5f",
             "gridcolor": "white",
             "linecolor": "white",
             "minorgridcolor": "white",
             "startlinecolor": "#2a3f5f"
            },
            "baxis": {
             "endlinecolor": "#2a3f5f",
             "gridcolor": "white",
             "linecolor": "white",
             "minorgridcolor": "white",
             "startlinecolor": "#2a3f5f"
            },
            "type": "carpet"
           }
          ],
          "choropleth": [
           {
            "colorbar": {
             "outlinewidth": 0,
             "ticks": ""
            },
            "type": "choropleth"
           }
          ],
          "contour": [
           {
            "colorbar": {
             "outlinewidth": 0,
             "ticks": ""
            },
            "colorscale": [
             [
              0,
              "#0d0887"
             ],
             [
              0.1111111111111111,
              "#46039f"
             ],
             [
              0.2222222222222222,
              "#7201a8"
             ],
             [
              0.3333333333333333,
              "#9c179e"
             ],
             [
              0.4444444444444444,
              "#bd3786"
             ],
             [
              0.5555555555555556,
              "#d8576b"
             ],
             [
              0.6666666666666666,
              "#ed7953"
             ],
             [
              0.7777777777777778,
              "#fb9f3a"
             ],
             [
              0.8888888888888888,
              "#fdca26"
             ],
             [
              1,
              "#f0f921"
             ]
            ],
            "type": "contour"
           }
          ],
          "contourcarpet": [
           {
            "colorbar": {
             "outlinewidth": 0,
             "ticks": ""
            },
            "type": "contourcarpet"
           }
          ],
          "heatmap": [
           {
            "colorbar": {
             "outlinewidth": 0,
             "ticks": ""
            },
            "colorscale": [
             [
              0,
              "#0d0887"
             ],
             [
              0.1111111111111111,
              "#46039f"
             ],
             [
              0.2222222222222222,
              "#7201a8"
             ],
             [
              0.3333333333333333,
              "#9c179e"
             ],
             [
              0.4444444444444444,
              "#bd3786"
             ],
             [
              0.5555555555555556,
              "#d8576b"
             ],
             [
              0.6666666666666666,
              "#ed7953"
             ],
             [
              0.7777777777777778,
              "#fb9f3a"
             ],
             [
              0.8888888888888888,
              "#fdca26"
             ],
             [
              1,
              "#f0f921"
             ]
            ],
            "type": "heatmap"
           }
          ],
          "heatmapgl": [
           {
            "colorbar": {
             "outlinewidth": 0,
             "ticks": ""
            },
            "colorscale": [
             [
              0,
              "#0d0887"
             ],
             [
              0.1111111111111111,
              "#46039f"
             ],
             [
              0.2222222222222222,
              "#7201a8"
             ],
             [
              0.3333333333333333,
              "#9c179e"
             ],
             [
              0.4444444444444444,
              "#bd3786"
             ],
             [
              0.5555555555555556,
              "#d8576b"
             ],
             [
              0.6666666666666666,
              "#ed7953"
             ],
             [
              0.7777777777777778,
              "#fb9f3a"
             ],
             [
              0.8888888888888888,
              "#fdca26"
             ],
             [
              1,
              "#f0f921"
             ]
            ],
            "type": "heatmapgl"
           }
          ],
          "histogram": [
           {
            "marker": {
             "colorbar": {
              "outlinewidth": 0,
              "ticks": ""
             }
            },
            "type": "histogram"
           }
          ],
          "histogram2d": [
           {
            "colorbar": {
             "outlinewidth": 0,
             "ticks": ""
            },
            "colorscale": [
             [
              0,
              "#0d0887"
             ],
             [
              0.1111111111111111,
              "#46039f"
             ],
             [
              0.2222222222222222,
              "#7201a8"
             ],
             [
              0.3333333333333333,
              "#9c179e"
             ],
             [
              0.4444444444444444,
              "#bd3786"
             ],
             [
              0.5555555555555556,
              "#d8576b"
             ],
             [
              0.6666666666666666,
              "#ed7953"
             ],
             [
              0.7777777777777778,
              "#fb9f3a"
             ],
             [
              0.8888888888888888,
              "#fdca26"
             ],
             [
              1,
              "#f0f921"
             ]
            ],
            "type": "histogram2d"
           }
          ],
          "histogram2dcontour": [
           {
            "colorbar": {
             "outlinewidth": 0,
             "ticks": ""
            },
            "colorscale": [
             [
              0,
              "#0d0887"
             ],
             [
              0.1111111111111111,
              "#46039f"
             ],
             [
              0.2222222222222222,
              "#7201a8"
             ],
             [
              0.3333333333333333,
              "#9c179e"
             ],
             [
              0.4444444444444444,
              "#bd3786"
             ],
             [
              0.5555555555555556,
              "#d8576b"
             ],
             [
              0.6666666666666666,
              "#ed7953"
             ],
             [
              0.7777777777777778,
              "#fb9f3a"
             ],
             [
              0.8888888888888888,
              "#fdca26"
             ],
             [
              1,
              "#f0f921"
             ]
            ],
            "type": "histogram2dcontour"
           }
          ],
          "mesh3d": [
           {
            "colorbar": {
             "outlinewidth": 0,
             "ticks": ""
            },
            "type": "mesh3d"
           }
          ],
          "parcoords": [
           {
            "line": {
             "colorbar": {
              "outlinewidth": 0,
              "ticks": ""
             }
            },
            "type": "parcoords"
           }
          ],
          "pie": [
           {
            "automargin": true,
            "type": "pie"
           }
          ],
          "scatter": [
           {
            "marker": {
             "colorbar": {
              "outlinewidth": 0,
              "ticks": ""
             }
            },
            "type": "scatter"
           }
          ],
          "scatter3d": [
           {
            "line": {
             "colorbar": {
              "outlinewidth": 0,
              "ticks": ""
             }
            },
            "marker": {
             "colorbar": {
              "outlinewidth": 0,
              "ticks": ""
             }
            },
            "type": "scatter3d"
           }
          ],
          "scattercarpet": [
           {
            "marker": {
             "colorbar": {
              "outlinewidth": 0,
              "ticks": ""
             }
            },
            "type": "scattercarpet"
           }
          ],
          "scattergeo": [
           {
            "marker": {
             "colorbar": {
              "outlinewidth": 0,
              "ticks": ""
             }
            },
            "type": "scattergeo"
           }
          ],
          "scattergl": [
           {
            "marker": {
             "colorbar": {
              "outlinewidth": 0,
              "ticks": ""
             }
            },
            "type": "scattergl"
           }
          ],
          "scattermapbox": [
           {
            "marker": {
             "colorbar": {
              "outlinewidth": 0,
              "ticks": ""
             }
            },
            "type": "scattermapbox"
           }
          ],
          "scatterpolar": [
           {
            "marker": {
             "colorbar": {
              "outlinewidth": 0,
              "ticks": ""
             }
            },
            "type": "scatterpolar"
           }
          ],
          "scatterpolargl": [
           {
            "marker": {
             "colorbar": {
              "outlinewidth": 0,
              "ticks": ""
             }
            },
            "type": "scatterpolargl"
           }
          ],
          "scatterternary": [
           {
            "marker": {
             "colorbar": {
              "outlinewidth": 0,
              "ticks": ""
             }
            },
            "type": "scatterternary"
           }
          ],
          "surface": [
           {
            "colorbar": {
             "outlinewidth": 0,
             "ticks": ""
            },
            "colorscale": [
             [
              0,
              "#0d0887"
             ],
             [
              0.1111111111111111,
              "#46039f"
             ],
             [
              0.2222222222222222,
              "#7201a8"
             ],
             [
              0.3333333333333333,
              "#9c179e"
             ],
             [
              0.4444444444444444,
              "#bd3786"
             ],
             [
              0.5555555555555556,
              "#d8576b"
             ],
             [
              0.6666666666666666,
              "#ed7953"
             ],
             [
              0.7777777777777778,
              "#fb9f3a"
             ],
             [
              0.8888888888888888,
              "#fdca26"
             ],
             [
              1,
              "#f0f921"
             ]
            ],
            "type": "surface"
           }
          ],
          "table": [
           {
            "cells": {
             "fill": {
              "color": "#EBF0F8"
             },
             "line": {
              "color": "white"
             }
            },
            "header": {
             "fill": {
              "color": "#C8D4E3"
             },
             "line": {
              "color": "white"
             }
            },
            "type": "table"
           }
          ]
         },
         "layout": {
          "annotationdefaults": {
           "arrowcolor": "#2a3f5f",
           "arrowhead": 0,
           "arrowwidth": 1
          },
          "coloraxis": {
           "colorbar": {
            "outlinewidth": 0,
            "ticks": ""
           }
          },
          "colorscale": {
           "diverging": [
            [
             0,
             "#8e0152"
            ],
            [
             0.1,
             "#c51b7d"
            ],
            [
             0.2,
             "#de77ae"
            ],
            [
             0.3,
             "#f1b6da"
            ],
            [
             0.4,
             "#fde0ef"
            ],
            [
             0.5,
             "#f7f7f7"
            ],
            [
             0.6,
             "#e6f5d0"
            ],
            [
             0.7,
             "#b8e186"
            ],
            [
             0.8,
             "#7fbc41"
            ],
            [
             0.9,
             "#4d9221"
            ],
            [
             1,
             "#276419"
            ]
           ],
           "sequential": [
            [
             0,
             "#0d0887"
            ],
            [
             0.1111111111111111,
             "#46039f"
            ],
            [
             0.2222222222222222,
             "#7201a8"
            ],
            [
             0.3333333333333333,
             "#9c179e"
            ],
            [
             0.4444444444444444,
             "#bd3786"
            ],
            [
             0.5555555555555556,
             "#d8576b"
            ],
            [
             0.6666666666666666,
             "#ed7953"
            ],
            [
             0.7777777777777778,
             "#fb9f3a"
            ],
            [
             0.8888888888888888,
             "#fdca26"
            ],
            [
             1,
             "#f0f921"
            ]
           ],
           "sequentialminus": [
            [
             0,
             "#0d0887"
            ],
            [
             0.1111111111111111,
             "#46039f"
            ],
            [
             0.2222222222222222,
             "#7201a8"
            ],
            [
             0.3333333333333333,
             "#9c179e"
            ],
            [
             0.4444444444444444,
             "#bd3786"
            ],
            [
             0.5555555555555556,
             "#d8576b"
            ],
            [
             0.6666666666666666,
             "#ed7953"
            ],
            [
             0.7777777777777778,
             "#fb9f3a"
            ],
            [
             0.8888888888888888,
             "#fdca26"
            ],
            [
             1,
             "#f0f921"
            ]
           ]
          },
          "colorway": [
           "#636efa",
           "#EF553B",
           "#00cc96",
           "#ab63fa",
           "#FFA15A",
           "#19d3f3",
           "#FF6692",
           "#B6E880",
           "#FF97FF",
           "#FECB52"
          ],
          "font": {
           "color": "#2a3f5f"
          },
          "geo": {
           "bgcolor": "white",
           "lakecolor": "white",
           "landcolor": "#E5ECF6",
           "showlakes": true,
           "showland": true,
           "subunitcolor": "white"
          },
          "hoverlabel": {
           "align": "left"
          },
          "hovermode": "closest",
          "mapbox": {
           "style": "light"
          },
          "paper_bgcolor": "white",
          "plot_bgcolor": "#E5ECF6",
          "polar": {
           "angularaxis": {
            "gridcolor": "white",
            "linecolor": "white",
            "ticks": ""
           },
           "bgcolor": "#E5ECF6",
           "radialaxis": {
            "gridcolor": "white",
            "linecolor": "white",
            "ticks": ""
           }
          },
          "scene": {
           "xaxis": {
            "backgroundcolor": "#E5ECF6",
            "gridcolor": "white",
            "gridwidth": 2,
            "linecolor": "white",
            "showbackground": true,
            "ticks": "",
            "zerolinecolor": "white"
           },
           "yaxis": {
            "backgroundcolor": "#E5ECF6",
            "gridcolor": "white",
            "gridwidth": 2,
            "linecolor": "white",
            "showbackground": true,
            "ticks": "",
            "zerolinecolor": "white"
           },
           "zaxis": {
            "backgroundcolor": "#E5ECF6",
            "gridcolor": "white",
            "gridwidth": 2,
            "linecolor": "white",
            "showbackground": true,
            "ticks": "",
            "zerolinecolor": "white"
           }
          },
          "shapedefaults": {
           "line": {
            "color": "#2a3f5f"
           }
          },
          "ternary": {
           "aaxis": {
            "gridcolor": "white",
            "linecolor": "white",
            "ticks": ""
           },
           "baxis": {
            "gridcolor": "white",
            "linecolor": "white",
            "ticks": ""
           },
           "bgcolor": "#E5ECF6",
           "caxis": {
            "gridcolor": "white",
            "linecolor": "white",
            "ticks": ""
           }
          },
          "title": {
           "x": 0.05
          },
          "xaxis": {
           "automargin": true,
           "gridcolor": "white",
           "linecolor": "white",
           "ticks": "",
           "title": {
            "standoff": 15
           },
           "zerolinecolor": "white",
           "zerolinewidth": 2
          },
          "yaxis": {
           "automargin": true,
           "gridcolor": "white",
           "linecolor": "white",
           "ticks": "",
           "title": {
            "standoff": 15
           },
           "zerolinecolor": "white",
           "zerolinewidth": 2
          }
         }
        },
        "title": {
         "font": {
          "color": "#000000",
          "family": "Helvetica Neue",
          "size": 26
         },
         "text": "<b>Operation Counts vs. #E</b>"
        },
        "xaxis": {
         "linecolor": "rgb(0, 0, 0)",
         "linewidth": 2,
         "nticks": 5,
         "rangemode": "tozero",
         "showgrid": false,
         "showline": true,
         "tickfont": {
          "color": "#000000",
          "size": 26
         },
         "ticks": "outside",
         "tickwidth": 3
        },
        "yaxis": {
         "nticks": 5,
         "rangemode": "nonnegative",
         "showline": false,
         "showticklabels": true,
         "tickfont": {
          "color": "#000000",
          "size": 26
         },
         "zeroline": false
        }
       }
      }
     },
     "metadata": {}
    }
   ],
   "source": [
    "fig = go.Figure()\n",
    "#/or idx, e in enumerate(ploted_edge):\n",
    "same_ef = res.loc[(res['V'] == 10000)&(res['function']=='Baseline')]\n",
    "fig.add_trace(go.Scatter(x=same_ef[\"E\"], y=same_ef[\"flcomps\"], name=f\"flcomp\",\n",
    "                            mode='lines+markers', marker=dict(symbol=marker_symbols[0],size=10),\n",
    "                            line=dict(color=colors[0], width=3)))\n",
    "fig.add_trace(go.Scatter(x=same_ef[\"E\"], y=same_ef[\"flops\"], name=f\"flops\",\n",
    "                            mode='lines+markers', marker=dict(symbol=marker_symbols[1],size=10),\n",
    "                            line=dict(color=colors[3], width=3)))\n",
    "fig.add_trace(go.Scatter(x=same_ef[\"E\"], y=same_ef[\"intops\"], name=f\"intops\",\n",
    "                            mode='lines+markers', marker=dict(symbol=marker_symbols[2],size=10),\n",
    "                            line=dict(color=colors[6], width=3)))\n",
    "fig.add_trace(go.Scatter(x=same_ef[\"E\"], y=same_ef[\"intcomps\"], name=f\"intcomp\",\n",
    "                            mode='lines+markers', marker=dict(symbol=marker_symbols[3],size=10),\n",
    "                            line=dict(color=colors[8], width=3)))\n",
    "\n",
    "fig.update_layout(title=dict(text=\"<b>Operation Counts vs. #E</b>\", font=default_font),\n",
    "                  xaxis=dict(showline=True, showgrid=False, rangemode=\"tozero\",\n",
    "                             linecolor='rgb(0, 0, 0)', linewidth=2, nticks=5,\n",
    "                             tickwidth=3, tickfont=num_font, ticks='outside'),\n",
    "                  yaxis=dict(tickfont=num_font, zeroline=False, showticklabels=True,rangemode=\"nonnegative\",nticks=5,\n",
    "                             showline=False),\n",
    "                  showlegend=False, # legend=dict(valign='top', traceorder=\"reversed\"),\n",
    "                  margin=dict(autoexpand=True, l=40, r=10, t=50),\n",
    "                  plot_bgcolor=\"#eeeeee\",\n",
    "                  )\n",
    "fig.show(renderer=\"plotly_mimetype\")\n",
    "fig.write_image(\"ops_v10000.pdf\")"
   ]
  },
  {
   "cell_type": "code",
   "execution_count": 13,
   "metadata": {},
   "outputs": [],
   "source": [
    "julia = []\n",
    "julia_header = ['V', 'E', 'runtime']\n",
    "with open(\"./julia_runtime.log\", 'r') as f:\n",
    "    for line in f:\n",
    "        line = line.split()\n",
    "        julia.append([int(line[0]), int(line[1]),float(line[2])])\n",
    "julia_df = pd.DataFrame(julia, columns=julia_header)\n",
    "julia_df['E/V'] = julia_df['E']/julia_df['V']"
   ]
  },
  {
   "cell_type": "code",
   "execution_count": 18,
   "metadata": {},
   "outputs": [
    {
     "output_type": "display_data",
     "data": {
      "application/vnd.plotly.v1+json": {
       "config": {
        "plotlyServerURL": "https://plot.ly"
       },
       "data": [
        {
         "line": {
          "color": "#665c70",
          "width": 3
         },
         "marker": {
          "size": 10,
          "symbol": "triangle-down-open"
         },
         "mode": "lines+markers",
         "name": "Julia",
         "type": "scatter",
         "x": [
          2,
          4,
          5,
          8,
          10,
          16,
          20
         ],
         "y": [
          0.25803,
          0.27515,
          0.27843,
          0.26811,
          0.288762,
          0.345157,
          0.339201
         ]
        },
        {
         "line": {
          "color": "#ad981f",
          "width": 3
         },
         "marker": {
          "size": 8,
          "symbol": "square"
         },
         "mode": "lines+markers",
         "name": "Inline",
         "type": "scatter",
         "x": [
          2,
          4,
          5,
          8,
          10,
          16,
          20
         ],
         "y": [
          "0.054672",
          "0.076958",
          "0.0832652",
          "0.0978502",
          "0.112405",
          "0.158244",
          "0.171585"
         ]
        },
        {
         "line": {
          "color": "#808080",
          "width": 3
         },
         "marker": {
          "size": 8,
          "symbol": "diamond"
         },
         "mode": "lines+markers",
         "name": "V1",
         "type": "scatter",
         "x": [
          2,
          4,
          5,
          8,
          10,
          16,
          20
         ],
         "y": [
          "0.0105257",
          "0.0230774",
          "0.0339318",
          "0.0578026",
          "0.0703763",
          "0.119538",
          "0.138489"
         ]
        },
        {
         "line": {
          "color": "#669999",
          "width": 3
         },
         "marker": {
          "size": 8,
          "symbol": "cross"
         },
         "mode": "lines+markers",
         "name": "V1MgSIMD",
         "type": "scatter",
         "x": [
          2,
          4,
          5,
          8,
          10,
          16,
          20
         ],
         "y": [
          "0.0110384",
          "0.0225584",
          "0.0281399",
          "0.0509088",
          "0.0598247",
          "0.106511",
          "0.135082"
         ]
        },
        {
         "line": {
          "color": "#006080",
          "width": 3
         },
         "marker": {
          "size": 8,
          "symbol": "triangle-up-open"
         },
         "mode": "lines+markers",
         "name": "V1MgBSSIMD",
         "type": "scatter",
         "x": [
          2,
          4,
          5,
          8,
          10,
          16,
          20
         ],
         "y": [
          "0.00859315",
          "0.0210866",
          "0.026052",
          "0.0517238",
          "0.052755",
          "0.0887211",
          "0.100585"
         ]
        },
        {
         "line": {
          "color": "#000b1a",
          "width": 3
         },
         "marker": {
          "size": 8,
          "symbol": "pentagon"
         },
         "mode": "lines+markers",
         "name": "V2MgBSSIMD",
         "type": "scatter",
         "x": [
          2,
          4,
          5,
          8,
          10,
          16,
          20
         ],
         "y": [
          "0.00981931",
          "0.0209795",
          "0.0267717",
          "0.0428303",
          "0.0550996",
          "0.0810923",
          "0.100934"
         ]
        }
       ],
       "layout": {
        "legend": {
         "font": {
          "color": "#000000",
          "size": 16
         },
         "orientation": "h",
         "valign": "top",
         "x": 0,
         "xanchor": "left",
         "y": 1.3,
         "yanchor": "top"
        },
        "margin": {
         "autoexpand": false,
         "b": 60,
         "l": 80,
         "r": 30,
         "t": 100
        },
        "plot_bgcolor": "#eeeeee",
        "showlegend": true,
        "template": {
         "data": {
          "bar": [
           {
            "error_x": {
             "color": "#2a3f5f"
            },
            "error_y": {
             "color": "#2a3f5f"
            },
            "marker": {
             "line": {
              "color": "#E5ECF6",
              "width": 0.5
             }
            },
            "type": "bar"
           }
          ],
          "barpolar": [
           {
            "marker": {
             "line": {
              "color": "#E5ECF6",
              "width": 0.5
             }
            },
            "type": "barpolar"
           }
          ],
          "carpet": [
           {
            "aaxis": {
             "endlinecolor": "#2a3f5f",
             "gridcolor": "white",
             "linecolor": "white",
             "minorgridcolor": "white",
             "startlinecolor": "#2a3f5f"
            },
            "baxis": {
             "endlinecolor": "#2a3f5f",
             "gridcolor": "white",
             "linecolor": "white",
             "minorgridcolor": "white",
             "startlinecolor": "#2a3f5f"
            },
            "type": "carpet"
           }
          ],
          "choropleth": [
           {
            "colorbar": {
             "outlinewidth": 0,
             "ticks": ""
            },
            "type": "choropleth"
           }
          ],
          "contour": [
           {
            "colorbar": {
             "outlinewidth": 0,
             "ticks": ""
            },
            "colorscale": [
             [
              0,
              "#0d0887"
             ],
             [
              0.1111111111111111,
              "#46039f"
             ],
             [
              0.2222222222222222,
              "#7201a8"
             ],
             [
              0.3333333333333333,
              "#9c179e"
             ],
             [
              0.4444444444444444,
              "#bd3786"
             ],
             [
              0.5555555555555556,
              "#d8576b"
             ],
             [
              0.6666666666666666,
              "#ed7953"
             ],
             [
              0.7777777777777778,
              "#fb9f3a"
             ],
             [
              0.8888888888888888,
              "#fdca26"
             ],
             [
              1,
              "#f0f921"
             ]
            ],
            "type": "contour"
           }
          ],
          "contourcarpet": [
           {
            "colorbar": {
             "outlinewidth": 0,
             "ticks": ""
            },
            "type": "contourcarpet"
           }
          ],
          "heatmap": [
           {
            "colorbar": {
             "outlinewidth": 0,
             "ticks": ""
            },
            "colorscale": [
             [
              0,
              "#0d0887"
             ],
             [
              0.1111111111111111,
              "#46039f"
             ],
             [
              0.2222222222222222,
              "#7201a8"
             ],
             [
              0.3333333333333333,
              "#9c179e"
             ],
             [
              0.4444444444444444,
              "#bd3786"
             ],
             [
              0.5555555555555556,
              "#d8576b"
             ],
             [
              0.6666666666666666,
              "#ed7953"
             ],
             [
              0.7777777777777778,
              "#fb9f3a"
             ],
             [
              0.8888888888888888,
              "#fdca26"
             ],
             [
              1,
              "#f0f921"
             ]
            ],
            "type": "heatmap"
           }
          ],
          "heatmapgl": [
           {
            "colorbar": {
             "outlinewidth": 0,
             "ticks": ""
            },
            "colorscale": [
             [
              0,
              "#0d0887"
             ],
             [
              0.1111111111111111,
              "#46039f"
             ],
             [
              0.2222222222222222,
              "#7201a8"
             ],
             [
              0.3333333333333333,
              "#9c179e"
             ],
             [
              0.4444444444444444,
              "#bd3786"
             ],
             [
              0.5555555555555556,
              "#d8576b"
             ],
             [
              0.6666666666666666,
              "#ed7953"
             ],
             [
              0.7777777777777778,
              "#fb9f3a"
             ],
             [
              0.8888888888888888,
              "#fdca26"
             ],
             [
              1,
              "#f0f921"
             ]
            ],
            "type": "heatmapgl"
           }
          ],
          "histogram": [
           {
            "marker": {
             "colorbar": {
              "outlinewidth": 0,
              "ticks": ""
             }
            },
            "type": "histogram"
           }
          ],
          "histogram2d": [
           {
            "colorbar": {
             "outlinewidth": 0,
             "ticks": ""
            },
            "colorscale": [
             [
              0,
              "#0d0887"
             ],
             [
              0.1111111111111111,
              "#46039f"
             ],
             [
              0.2222222222222222,
              "#7201a8"
             ],
             [
              0.3333333333333333,
              "#9c179e"
             ],
             [
              0.4444444444444444,
              "#bd3786"
             ],
             [
              0.5555555555555556,
              "#d8576b"
             ],
             [
              0.6666666666666666,
              "#ed7953"
             ],
             [
              0.7777777777777778,
              "#fb9f3a"
             ],
             [
              0.8888888888888888,
              "#fdca26"
             ],
             [
              1,
              "#f0f921"
             ]
            ],
            "type": "histogram2d"
           }
          ],
          "histogram2dcontour": [
           {
            "colorbar": {
             "outlinewidth": 0,
             "ticks": ""
            },
            "colorscale": [
             [
              0,
              "#0d0887"
             ],
             [
              0.1111111111111111,
              "#46039f"
             ],
             [
              0.2222222222222222,
              "#7201a8"
             ],
             [
              0.3333333333333333,
              "#9c179e"
             ],
             [
              0.4444444444444444,
              "#bd3786"
             ],
             [
              0.5555555555555556,
              "#d8576b"
             ],
             [
              0.6666666666666666,
              "#ed7953"
             ],
             [
              0.7777777777777778,
              "#fb9f3a"
             ],
             [
              0.8888888888888888,
              "#fdca26"
             ],
             [
              1,
              "#f0f921"
             ]
            ],
            "type": "histogram2dcontour"
           }
          ],
          "mesh3d": [
           {
            "colorbar": {
             "outlinewidth": 0,
             "ticks": ""
            },
            "type": "mesh3d"
           }
          ],
          "parcoords": [
           {
            "line": {
             "colorbar": {
              "outlinewidth": 0,
              "ticks": ""
             }
            },
            "type": "parcoords"
           }
          ],
          "pie": [
           {
            "automargin": true,
            "type": "pie"
           }
          ],
          "scatter": [
           {
            "marker": {
             "colorbar": {
              "outlinewidth": 0,
              "ticks": ""
             }
            },
            "type": "scatter"
           }
          ],
          "scatter3d": [
           {
            "line": {
             "colorbar": {
              "outlinewidth": 0,
              "ticks": ""
             }
            },
            "marker": {
             "colorbar": {
              "outlinewidth": 0,
              "ticks": ""
             }
            },
            "type": "scatter3d"
           }
          ],
          "scattercarpet": [
           {
            "marker": {
             "colorbar": {
              "outlinewidth": 0,
              "ticks": ""
             }
            },
            "type": "scattercarpet"
           }
          ],
          "scattergeo": [
           {
            "marker": {
             "colorbar": {
              "outlinewidth": 0,
              "ticks": ""
             }
            },
            "type": "scattergeo"
           }
          ],
          "scattergl": [
           {
            "marker": {
             "colorbar": {
              "outlinewidth": 0,
              "ticks": ""
             }
            },
            "type": "scattergl"
           }
          ],
          "scattermapbox": [
           {
            "marker": {
             "colorbar": {
              "outlinewidth": 0,
              "ticks": ""
             }
            },
            "type": "scattermapbox"
           }
          ],
          "scatterpolar": [
           {
            "marker": {
             "colorbar": {
              "outlinewidth": 0,
              "ticks": ""
             }
            },
            "type": "scatterpolar"
           }
          ],
          "scatterpolargl": [
           {
            "marker": {
             "colorbar": {
              "outlinewidth": 0,
              "ticks": ""
             }
            },
            "type": "scatterpolargl"
           }
          ],
          "scatterternary": [
           {
            "marker": {
             "colorbar": {
              "outlinewidth": 0,
              "ticks": ""
             }
            },
            "type": "scatterternary"
           }
          ],
          "surface": [
           {
            "colorbar": {
             "outlinewidth": 0,
             "ticks": ""
            },
            "colorscale": [
             [
              0,
              "#0d0887"
             ],
             [
              0.1111111111111111,
              "#46039f"
             ],
             [
              0.2222222222222222,
              "#7201a8"
             ],
             [
              0.3333333333333333,
              "#9c179e"
             ],
             [
              0.4444444444444444,
              "#bd3786"
             ],
             [
              0.5555555555555556,
              "#d8576b"
             ],
             [
              0.6666666666666666,
              "#ed7953"
             ],
             [
              0.7777777777777778,
              "#fb9f3a"
             ],
             [
              0.8888888888888888,
              "#fdca26"
             ],
             [
              1,
              "#f0f921"
             ]
            ],
            "type": "surface"
           }
          ],
          "table": [
           {
            "cells": {
             "fill": {
              "color": "#EBF0F8"
             },
             "line": {
              "color": "white"
             }
            },
            "header": {
             "fill": {
              "color": "#C8D4E3"
             },
             "line": {
              "color": "white"
             }
            },
            "type": "table"
           }
          ]
         },
         "layout": {
          "annotationdefaults": {
           "arrowcolor": "#2a3f5f",
           "arrowhead": 0,
           "arrowwidth": 1
          },
          "coloraxis": {
           "colorbar": {
            "outlinewidth": 0,
            "ticks": ""
           }
          },
          "colorscale": {
           "diverging": [
            [
             0,
             "#8e0152"
            ],
            [
             0.1,
             "#c51b7d"
            ],
            [
             0.2,
             "#de77ae"
            ],
            [
             0.3,
             "#f1b6da"
            ],
            [
             0.4,
             "#fde0ef"
            ],
            [
             0.5,
             "#f7f7f7"
            ],
            [
             0.6,
             "#e6f5d0"
            ],
            [
             0.7,
             "#b8e186"
            ],
            [
             0.8,
             "#7fbc41"
            ],
            [
             0.9,
             "#4d9221"
            ],
            [
             1,
             "#276419"
            ]
           ],
           "sequential": [
            [
             0,
             "#0d0887"
            ],
            [
             0.1111111111111111,
             "#46039f"
            ],
            [
             0.2222222222222222,
             "#7201a8"
            ],
            [
             0.3333333333333333,
             "#9c179e"
            ],
            [
             0.4444444444444444,
             "#bd3786"
            ],
            [
             0.5555555555555556,
             "#d8576b"
            ],
            [
             0.6666666666666666,
             "#ed7953"
            ],
            [
             0.7777777777777778,
             "#fb9f3a"
            ],
            [
             0.8888888888888888,
             "#fdca26"
            ],
            [
             1,
             "#f0f921"
            ]
           ],
           "sequentialminus": [
            [
             0,
             "#0d0887"
            ],
            [
             0.1111111111111111,
             "#46039f"
            ],
            [
             0.2222222222222222,
             "#7201a8"
            ],
            [
             0.3333333333333333,
             "#9c179e"
            ],
            [
             0.4444444444444444,
             "#bd3786"
            ],
            [
             0.5555555555555556,
             "#d8576b"
            ],
            [
             0.6666666666666666,
             "#ed7953"
            ],
            [
             0.7777777777777778,
             "#fb9f3a"
            ],
            [
             0.8888888888888888,
             "#fdca26"
            ],
            [
             1,
             "#f0f921"
            ]
           ]
          },
          "colorway": [
           "#636efa",
           "#EF553B",
           "#00cc96",
           "#ab63fa",
           "#FFA15A",
           "#19d3f3",
           "#FF6692",
           "#B6E880",
           "#FF97FF",
           "#FECB52"
          ],
          "font": {
           "color": "#2a3f5f"
          },
          "geo": {
           "bgcolor": "white",
           "lakecolor": "white",
           "landcolor": "#E5ECF6",
           "showlakes": true,
           "showland": true,
           "subunitcolor": "white"
          },
          "hoverlabel": {
           "align": "left"
          },
          "hovermode": "closest",
          "mapbox": {
           "style": "light"
          },
          "paper_bgcolor": "white",
          "plot_bgcolor": "#E5ECF6",
          "polar": {
           "angularaxis": {
            "gridcolor": "white",
            "linecolor": "white",
            "ticks": ""
           },
           "bgcolor": "#E5ECF6",
           "radialaxis": {
            "gridcolor": "white",
            "linecolor": "white",
            "ticks": ""
           }
          },
          "scene": {
           "xaxis": {
            "backgroundcolor": "#E5ECF6",
            "gridcolor": "white",
            "gridwidth": 2,
            "linecolor": "white",
            "showbackground": true,
            "ticks": "",
            "zerolinecolor": "white"
           },
           "yaxis": {
            "backgroundcolor": "#E5ECF6",
            "gridcolor": "white",
            "gridwidth": 2,
            "linecolor": "white",
            "showbackground": true,
            "ticks": "",
            "zerolinecolor": "white"
           },
           "zaxis": {
            "backgroundcolor": "#E5ECF6",
            "gridcolor": "white",
            "gridwidth": 2,
            "linecolor": "white",
            "showbackground": true,
            "ticks": "",
            "zerolinecolor": "white"
           }
          },
          "shapedefaults": {
           "line": {
            "color": "#2a3f5f"
           }
          },
          "ternary": {
           "aaxis": {
            "gridcolor": "white",
            "linecolor": "white",
            "ticks": ""
           },
           "baxis": {
            "gridcolor": "white",
            "linecolor": "white",
            "ticks": ""
           },
           "bgcolor": "#E5ECF6",
           "caxis": {
            "gridcolor": "white",
            "linecolor": "white",
            "ticks": ""
           }
          },
          "title": {
           "x": 0.05
          },
          "xaxis": {
           "automargin": true,
           "gridcolor": "white",
           "linecolor": "white",
           "ticks": "",
           "title": {
            "standoff": 15
           },
           "zerolinecolor": "white",
           "zerolinewidth": 2
          },
          "yaxis": {
           "automargin": true,
           "gridcolor": "white",
           "linecolor": "white",
           "ticks": "",
           "title": {
            "standoff": 15
           },
           "zerolinecolor": "white",
           "zerolinewidth": 2
          }
         }
        },
        "xaxis": {
         "linecolor": "rgb(0, 0, 0)",
         "linewidth": 2,
         "nticks": 6,
         "rangemode": "tozero",
         "showgrid": false,
         "showline": true,
         "tickfont": {
          "color": "#000000",
          "size": 20
         },
         "ticks": "outside",
         "tickwidth": 3
        },
        "yaxis": {
         "nticks": 8,
         "rangemode": "tozero",
         "showline": false,
         "showticklabels": true,
         "tickfont": {
          "color": "#000000",
          "size": 20
         },
         "zeroline": false
        }
       }
      }
     },
     "metadata": {}
    }
   ],
   "source": [
    "fig = go.Figure()\n",
    "\n",
    "runtime_func = ['Inline', 'V1', 'V1MgSIMD',  'V1MgBSSIMD', 'V2MgBSSIMD']\n",
    "# func_alias = ['Baseline', 'Inline', 'Inline+simd', 'Vec', 'VecMg', 'VecMgSIMD', 'VecMgSIMDcsum', 'VecMgRand', 'VecMgRandSIMD', 'VecMgSearch', 'VecMgSearchSIMD', 'VecStructMg','VecStructMgSIMD']\n",
    "colors = ['#e1cc55', '#ad981f',  '#808080', '#669999',  '#006080', '#000b1a']\n",
    "julia_same=julia_df.loc[julia_df['V']==5000]\n",
    "fig.add_trace(go.Scatter(x=julia_same['E/V'], y=julia_same[\"runtime\"],  name=f\"Julia\",\n",
    "                            mode='lines+markers', marker=dict(symbol=marker_symbols[13],size=10),\n",
    "                            line=dict(color='#665c70', width=3)))\n",
    "for j, func in enumerate(runtime_func):\n",
    "    same = res.loc[(res['function']==func)&(res['V']==5000)]\n",
    "    fig.add_trace(go.Scatter(x=same['E/V'], y=same[\"runtime\"], name=f\"{func}\",\n",
    "                            mode='lines+markers', marker=dict(symbol=marker_symbols[j+1],size=8),\n",
    "                            line=dict(color=colors[j+1], width=3)))\n",
    "legend_font=dict(size=16,color='#000000')\n",
    "fig.update_layout(#title=dict(text=\"Performance [intops/cycle] vs. Average Degree\", font=default_font),\n",
    "                  xaxis=dict(showline=True, showgrid=False, rangemode=\"tozero\",nticks=6,\n",
    "                             linecolor='rgb(0, 0, 0)', linewidth=2,\n",
    "                             tickwidth=3, tickfont=num_font, ticks='outside'),\n",
    "                  yaxis=dict(tickfont=num_font, zeroline=False, showticklabels=True, rangemode=\"tozero\",nticks=8,\n",
    "                             showline=False),\n",
    "                  showlegend=True, legend=dict(font=legend_font, orientation='h', valign='top', x=0, y=1.3, \n",
    "                                               yanchor='top',xanchor='left'),\n",
    "                  margin=dict(autoexpand=False, l=80, r=30, t=100,b=60),\n",
    "                  plot_bgcolor=\"#eeeeee\"\n",
    "                  )\n",
    "fig.show()\n",
    "fig.write_image(\"runtime_v5000.pdf\")"
   ]
  },
  {
   "cell_type": "code",
   "execution_count": 19,
   "metadata": {},
   "outputs": [
    {
     "output_type": "display_data",
     "data": {
      "application/vnd.plotly.v1+json": {
       "config": {
        "plotlyServerURL": "https://plot.ly"
       },
       "data": [
        {
         "line": {
          "color": "#665c70",
          "width": 3
         },
         "marker": {
          "size": 10,
          "symbol": "triangle-down-open"
         },
         "mode": "lines+markers",
         "name": "Julia",
         "type": "scatter",
         "x": [
          5,
          10
         ],
         "y": [
          1.499817,
          2.838102
         ]
        },
        {
         "line": {
          "color": "#808080",
          "width": 3
         },
         "marker": {
          "size": 8,
          "symbol": "square"
         },
         "mode": "lines+markers",
         "name": "V1",
         "type": "scatter",
         "x": [
          5,
          10
         ],
         "y": [
          "1.02979",
          "2.49954"
         ]
        },
        {
         "line": {
          "color": "#669999",
          "width": 3
         },
         "marker": {
          "size": 8,
          "symbol": "diamond"
         },
         "mode": "lines+markers",
         "name": "V1MgSIMD",
         "type": "scatter",
         "x": [
          5,
          10
         ],
         "y": [
          "0.906448",
          "2.04253"
         ]
        },
        {
         "line": {
          "color": "#006080",
          "width": 3
         },
         "marker": {
          "size": 8,
          "symbol": "cross"
         },
         "mode": "lines+markers",
         "name": "V1MgBSSIMD",
         "type": "scatter",
         "x": [
          5,
          10
         ],
         "y": [
          "0.795062",
          "1.73679"
         ]
        },
        {
         "line": {
          "color": "#000b1a",
          "width": 3
         },
         "marker": {
          "size": 8,
          "symbol": "triangle-up-open"
         },
         "mode": "lines+markers",
         "name": "V2MgBSSIMD",
         "type": "scatter",
         "x": [
          5,
          10
         ],
         "y": [
          "0.678811",
          "1.6318"
         ]
        }
       ],
       "layout": {
        "legend": {
         "font": {
          "color": "#000000",
          "size": 16
         },
         "orientation": "h",
         "valign": "top",
         "x": 0,
         "xanchor": "left",
         "y": 1.3,
         "yanchor": "top"
        },
        "margin": {
         "autoexpand": false,
         "b": 60,
         "l": 60,
         "r": 20,
         "t": 30
        },
        "plot_bgcolor": "#eeeeee",
        "showlegend": false,
        "template": {
         "data": {
          "bar": [
           {
            "error_x": {
             "color": "#2a3f5f"
            },
            "error_y": {
             "color": "#2a3f5f"
            },
            "marker": {
             "line": {
              "color": "#E5ECF6",
              "width": 0.5
             }
            },
            "type": "bar"
           }
          ],
          "barpolar": [
           {
            "marker": {
             "line": {
              "color": "#E5ECF6",
              "width": 0.5
             }
            },
            "type": "barpolar"
           }
          ],
          "carpet": [
           {
            "aaxis": {
             "endlinecolor": "#2a3f5f",
             "gridcolor": "white",
             "linecolor": "white",
             "minorgridcolor": "white",
             "startlinecolor": "#2a3f5f"
            },
            "baxis": {
             "endlinecolor": "#2a3f5f",
             "gridcolor": "white",
             "linecolor": "white",
             "minorgridcolor": "white",
             "startlinecolor": "#2a3f5f"
            },
            "type": "carpet"
           }
          ],
          "choropleth": [
           {
            "colorbar": {
             "outlinewidth": 0,
             "ticks": ""
            },
            "type": "choropleth"
           }
          ],
          "contour": [
           {
            "colorbar": {
             "outlinewidth": 0,
             "ticks": ""
            },
            "colorscale": [
             [
              0,
              "#0d0887"
             ],
             [
              0.1111111111111111,
              "#46039f"
             ],
             [
              0.2222222222222222,
              "#7201a8"
             ],
             [
              0.3333333333333333,
              "#9c179e"
             ],
             [
              0.4444444444444444,
              "#bd3786"
             ],
             [
              0.5555555555555556,
              "#d8576b"
             ],
             [
              0.6666666666666666,
              "#ed7953"
             ],
             [
              0.7777777777777778,
              "#fb9f3a"
             ],
             [
              0.8888888888888888,
              "#fdca26"
             ],
             [
              1,
              "#f0f921"
             ]
            ],
            "type": "contour"
           }
          ],
          "contourcarpet": [
           {
            "colorbar": {
             "outlinewidth": 0,
             "ticks": ""
            },
            "type": "contourcarpet"
           }
          ],
          "heatmap": [
           {
            "colorbar": {
             "outlinewidth": 0,
             "ticks": ""
            },
            "colorscale": [
             [
              0,
              "#0d0887"
             ],
             [
              0.1111111111111111,
              "#46039f"
             ],
             [
              0.2222222222222222,
              "#7201a8"
             ],
             [
              0.3333333333333333,
              "#9c179e"
             ],
             [
              0.4444444444444444,
              "#bd3786"
             ],
             [
              0.5555555555555556,
              "#d8576b"
             ],
             [
              0.6666666666666666,
              "#ed7953"
             ],
             [
              0.7777777777777778,
              "#fb9f3a"
             ],
             [
              0.8888888888888888,
              "#fdca26"
             ],
             [
              1,
              "#f0f921"
             ]
            ],
            "type": "heatmap"
           }
          ],
          "heatmapgl": [
           {
            "colorbar": {
             "outlinewidth": 0,
             "ticks": ""
            },
            "colorscale": [
             [
              0,
              "#0d0887"
             ],
             [
              0.1111111111111111,
              "#46039f"
             ],
             [
              0.2222222222222222,
              "#7201a8"
             ],
             [
              0.3333333333333333,
              "#9c179e"
             ],
             [
              0.4444444444444444,
              "#bd3786"
             ],
             [
              0.5555555555555556,
              "#d8576b"
             ],
             [
              0.6666666666666666,
              "#ed7953"
             ],
             [
              0.7777777777777778,
              "#fb9f3a"
             ],
             [
              0.8888888888888888,
              "#fdca26"
             ],
             [
              1,
              "#f0f921"
             ]
            ],
            "type": "heatmapgl"
           }
          ],
          "histogram": [
           {
            "marker": {
             "colorbar": {
              "outlinewidth": 0,
              "ticks": ""
             }
            },
            "type": "histogram"
           }
          ],
          "histogram2d": [
           {
            "colorbar": {
             "outlinewidth": 0,
             "ticks": ""
            },
            "colorscale": [
             [
              0,
              "#0d0887"
             ],
             [
              0.1111111111111111,
              "#46039f"
             ],
             [
              0.2222222222222222,
              "#7201a8"
             ],
             [
              0.3333333333333333,
              "#9c179e"
             ],
             [
              0.4444444444444444,
              "#bd3786"
             ],
             [
              0.5555555555555556,
              "#d8576b"
             ],
             [
              0.6666666666666666,
              "#ed7953"
             ],
             [
              0.7777777777777778,
              "#fb9f3a"
             ],
             [
              0.8888888888888888,
              "#fdca26"
             ],
             [
              1,
              "#f0f921"
             ]
            ],
            "type": "histogram2d"
           }
          ],
          "histogram2dcontour": [
           {
            "colorbar": {
             "outlinewidth": 0,
             "ticks": ""
            },
            "colorscale": [
             [
              0,
              "#0d0887"
             ],
             [
              0.1111111111111111,
              "#46039f"
             ],
             [
              0.2222222222222222,
              "#7201a8"
             ],
             [
              0.3333333333333333,
              "#9c179e"
             ],
             [
              0.4444444444444444,
              "#bd3786"
             ],
             [
              0.5555555555555556,
              "#d8576b"
             ],
             [
              0.6666666666666666,
              "#ed7953"
             ],
             [
              0.7777777777777778,
              "#fb9f3a"
             ],
             [
              0.8888888888888888,
              "#fdca26"
             ],
             [
              1,
              "#f0f921"
             ]
            ],
            "type": "histogram2dcontour"
           }
          ],
          "mesh3d": [
           {
            "colorbar": {
             "outlinewidth": 0,
             "ticks": ""
            },
            "type": "mesh3d"
           }
          ],
          "parcoords": [
           {
            "line": {
             "colorbar": {
              "outlinewidth": 0,
              "ticks": ""
             }
            },
            "type": "parcoords"
           }
          ],
          "pie": [
           {
            "automargin": true,
            "type": "pie"
           }
          ],
          "scatter": [
           {
            "marker": {
             "colorbar": {
              "outlinewidth": 0,
              "ticks": ""
             }
            },
            "type": "scatter"
           }
          ],
          "scatter3d": [
           {
            "line": {
             "colorbar": {
              "outlinewidth": 0,
              "ticks": ""
             }
            },
            "marker": {
             "colorbar": {
              "outlinewidth": 0,
              "ticks": ""
             }
            },
            "type": "scatter3d"
           }
          ],
          "scattercarpet": [
           {
            "marker": {
             "colorbar": {
              "outlinewidth": 0,
              "ticks": ""
             }
            },
            "type": "scattercarpet"
           }
          ],
          "scattergeo": [
           {
            "marker": {
             "colorbar": {
              "outlinewidth": 0,
              "ticks": ""
             }
            },
            "type": "scattergeo"
           }
          ],
          "scattergl": [
           {
            "marker": {
             "colorbar": {
              "outlinewidth": 0,
              "ticks": ""
             }
            },
            "type": "scattergl"
           }
          ],
          "scattermapbox": [
           {
            "marker": {
             "colorbar": {
              "outlinewidth": 0,
              "ticks": ""
             }
            },
            "type": "scattermapbox"
           }
          ],
          "scatterpolar": [
           {
            "marker": {
             "colorbar": {
              "outlinewidth": 0,
              "ticks": ""
             }
            },
            "type": "scatterpolar"
           }
          ],
          "scatterpolargl": [
           {
            "marker": {
             "colorbar": {
              "outlinewidth": 0,
              "ticks": ""
             }
            },
            "type": "scatterpolargl"
           }
          ],
          "scatterternary": [
           {
            "marker": {
             "colorbar": {
              "outlinewidth": 0,
              "ticks": ""
             }
            },
            "type": "scatterternary"
           }
          ],
          "surface": [
           {
            "colorbar": {
             "outlinewidth": 0,
             "ticks": ""
            },
            "colorscale": [
             [
              0,
              "#0d0887"
             ],
             [
              0.1111111111111111,
              "#46039f"
             ],
             [
              0.2222222222222222,
              "#7201a8"
             ],
             [
              0.3333333333333333,
              "#9c179e"
             ],
             [
              0.4444444444444444,
              "#bd3786"
             ],
             [
              0.5555555555555556,
              "#d8576b"
             ],
             [
              0.6666666666666666,
              "#ed7953"
             ],
             [
              0.7777777777777778,
              "#fb9f3a"
             ],
             [
              0.8888888888888888,
              "#fdca26"
             ],
             [
              1,
              "#f0f921"
             ]
            ],
            "type": "surface"
           }
          ],
          "table": [
           {
            "cells": {
             "fill": {
              "color": "#EBF0F8"
             },
             "line": {
              "color": "white"
             }
            },
            "header": {
             "fill": {
              "color": "#C8D4E3"
             },
             "line": {
              "color": "white"
             }
            },
            "type": "table"
           }
          ]
         },
         "layout": {
          "annotationdefaults": {
           "arrowcolor": "#2a3f5f",
           "arrowhead": 0,
           "arrowwidth": 1
          },
          "coloraxis": {
           "colorbar": {
            "outlinewidth": 0,
            "ticks": ""
           }
          },
          "colorscale": {
           "diverging": [
            [
             0,
             "#8e0152"
            ],
            [
             0.1,
             "#c51b7d"
            ],
            [
             0.2,
             "#de77ae"
            ],
            [
             0.3,
             "#f1b6da"
            ],
            [
             0.4,
             "#fde0ef"
            ],
            [
             0.5,
             "#f7f7f7"
            ],
            [
             0.6,
             "#e6f5d0"
            ],
            [
             0.7,
             "#b8e186"
            ],
            [
             0.8,
             "#7fbc41"
            ],
            [
             0.9,
             "#4d9221"
            ],
            [
             1,
             "#276419"
            ]
           ],
           "sequential": [
            [
             0,
             "#0d0887"
            ],
            [
             0.1111111111111111,
             "#46039f"
            ],
            [
             0.2222222222222222,
             "#7201a8"
            ],
            [
             0.3333333333333333,
             "#9c179e"
            ],
            [
             0.4444444444444444,
             "#bd3786"
            ],
            [
             0.5555555555555556,
             "#d8576b"
            ],
            [
             0.6666666666666666,
             "#ed7953"
            ],
            [
             0.7777777777777778,
             "#fb9f3a"
            ],
            [
             0.8888888888888888,
             "#fdca26"
            ],
            [
             1,
             "#f0f921"
            ]
           ],
           "sequentialminus": [
            [
             0,
             "#0d0887"
            ],
            [
             0.1111111111111111,
             "#46039f"
            ],
            [
             0.2222222222222222,
             "#7201a8"
            ],
            [
             0.3333333333333333,
             "#9c179e"
            ],
            [
             0.4444444444444444,
             "#bd3786"
            ],
            [
             0.5555555555555556,
             "#d8576b"
            ],
            [
             0.6666666666666666,
             "#ed7953"
            ],
            [
             0.7777777777777778,
             "#fb9f3a"
            ],
            [
             0.8888888888888888,
             "#fdca26"
            ],
            [
             1,
             "#f0f921"
            ]
           ]
          },
          "colorway": [
           "#636efa",
           "#EF553B",
           "#00cc96",
           "#ab63fa",
           "#FFA15A",
           "#19d3f3",
           "#FF6692",
           "#B6E880",
           "#FF97FF",
           "#FECB52"
          ],
          "font": {
           "color": "#2a3f5f"
          },
          "geo": {
           "bgcolor": "white",
           "lakecolor": "white",
           "landcolor": "#E5ECF6",
           "showlakes": true,
           "showland": true,
           "subunitcolor": "white"
          },
          "hoverlabel": {
           "align": "left"
          },
          "hovermode": "closest",
          "mapbox": {
           "style": "light"
          },
          "paper_bgcolor": "white",
          "plot_bgcolor": "#E5ECF6",
          "polar": {
           "angularaxis": {
            "gridcolor": "white",
            "linecolor": "white",
            "ticks": ""
           },
           "bgcolor": "#E5ECF6",
           "radialaxis": {
            "gridcolor": "white",
            "linecolor": "white",
            "ticks": ""
           }
          },
          "scene": {
           "xaxis": {
            "backgroundcolor": "#E5ECF6",
            "gridcolor": "white",
            "gridwidth": 2,
            "linecolor": "white",
            "showbackground": true,
            "ticks": "",
            "zerolinecolor": "white"
           },
           "yaxis": {
            "backgroundcolor": "#E5ECF6",
            "gridcolor": "white",
            "gridwidth": 2,
            "linecolor": "white",
            "showbackground": true,
            "ticks": "",
            "zerolinecolor": "white"
           },
           "zaxis": {
            "backgroundcolor": "#E5ECF6",
            "gridcolor": "white",
            "gridwidth": 2,
            "linecolor": "white",
            "showbackground": true,
            "ticks": "",
            "zerolinecolor": "white"
           }
          },
          "shapedefaults": {
           "line": {
            "color": "#2a3f5f"
           }
          },
          "ternary": {
           "aaxis": {
            "gridcolor": "white",
            "linecolor": "white",
            "ticks": ""
           },
           "baxis": {
            "gridcolor": "white",
            "linecolor": "white",
            "ticks": ""
           },
           "bgcolor": "#E5ECF6",
           "caxis": {
            "gridcolor": "white",
            "linecolor": "white",
            "ticks": ""
           }
          },
          "title": {
           "x": 0.05
          },
          "xaxis": {
           "automargin": true,
           "gridcolor": "white",
           "linecolor": "white",
           "ticks": "",
           "title": {
            "standoff": 15
           },
           "zerolinecolor": "white",
           "zerolinewidth": 2
          },
          "yaxis": {
           "automargin": true,
           "gridcolor": "white",
           "linecolor": "white",
           "ticks": "",
           "title": {
            "standoff": 15
           },
           "zerolinecolor": "white",
           "zerolinewidth": 2
          }
         }
        },
        "xaxis": {
         "linecolor": "rgb(0, 0, 0)",
         "linewidth": 2,
         "nticks": 3,
         "rangemode": "tozero",
         "showgrid": false,
         "showline": true,
         "tickfont": {
          "color": "#000000",
          "size": 20
         },
         "ticks": "outside",
         "tickwidth": 3
        },
        "yaxis": {
         "nticks": 6,
         "rangemode": "nonnegative",
         "showline": false,
         "showticklabels": true,
         "tickfont": {
          "color": "#000000",
          "size": 20
         },
         "zeroline": false
        }
       }
      }
     },
     "metadata": {}
    }
   ],
   "source": [
    "fig = go.Figure()\n",
    "\n",
    "runtime_func = ['V1', 'V1MgSIMD',  'V1MgBSSIMD', 'V2MgBSSIMD']\n",
    "# func_alias = ['Baseline', 'Inline', 'Inline+simd', 'Vec', 'VecMg', 'VecMgSIMD', 'VecMgSIMDcsum', 'VecMgRand', 'VecMgRandSIMD', 'VecMgSearch', 'VecMgSearchSIMD', 'VecStructMg','VecStructMgSIMD']\n",
    "colors = ['#e1cc55',  '#808080', '#669999',  '#006080', '#000b1a']\n",
    "julia_same=julia_df.loc[julia_df['V']==100000]\n",
    "fig.add_trace(go.Scatter(x=julia_same['E/V'], y=julia_same[\"runtime\"],  name=f\"Julia\",\n",
    "                            mode='lines+markers', marker=dict(symbol=marker_symbols[13],size=10),\n",
    "                            line=dict(color='#665c70', width=3)))\n",
    "for j, func in enumerate(runtime_func):\n",
    "    same = res.loc[(res['function']==func)&(res['V']==100000)]\n",
    "    fig.add_trace(go.Scatter(x=same['E/V'], y=same[\"runtime\"], name=f\"{func}\",\n",
    "                            mode='lines+markers', marker=dict(symbol=marker_symbols[j+1],size=8),\n",
    "                            line=dict(color=colors[j+1], width=3)))\n",
    "legend_font=dict(size=16,color='#000000')\n",
    "fig.update_layout(#title=dict(text=\"Performance [intops/cycle] vs. Average Degree\", font=default_font),\n",
    "                  xaxis=dict(showline=True, showgrid=False, rangemode=\"tozero\",nticks=3,\n",
    "                             linecolor='rgb(0, 0, 0)', linewidth=2,\n",
    "                             tickwidth=3, tickfont=num_font, ticks='outside'),\n",
    "                  yaxis=dict(tickfont=num_font, zeroline=False, showticklabels=True, rangemode=\"nonnegative\",nticks=6,\n",
    "                             showline=False),\n",
    "                  showlegend=False, legend=dict(font=legend_font, orientation='h', valign='top', x=0, y=1.3, \n",
    "                                               yanchor='top',xanchor='left'),\n",
    "                  margin=dict(autoexpand=False, l=60, r=20, t=30,b=60),\n",
    "                  plot_bgcolor=\"#eeeeee\"\n",
    "                  )\n",
    "fig.show()\n",
    "fig.write_image(\"runtime_v100000.pdf\")"
   ]
  },
  {
   "cell_type": "code",
   "execution_count": 260,
   "metadata": {},
   "outputs": [
    {
     "output_type": "execute_result",
     "data": {
      "text/plain": "          V        E     flops   flcomps     intops   intcomps      total  \\\n448  100000  1000000  65709219  66030414  110269360  266252528  508261521   \n449  100000  1000000  65709219  66030414  110269360  266252528  508261521   \n450  100000  1000000  65709219  66030414  110269360  266252528  508261521   \n451  100000  1000000  65709219  66030414  110269360  266252528  508261521   \n452  100000  1000000  65709219  66030414  110269360  266252528  508261521   \n453  100000  1000000  65709219  66030414  110269360  266252528  508261521   \n454  100000  1000000  65709219  66030414  110269360  266252528  508261521   \n455  100000  1000000  65709219  66030414  110269360  266252528  508261521   \n456  100000  1000000  65709219  66030414  110269360  266252528  508261521   \n457  100000  1000000  65709219  66030414  110269360  266252528  508261521   \n458  100000  1000000  65709219  66030414  110269360  266252528  508261521   \n459  100000  1000000  65709219  66030414  110269360  266252528  508261521   \n460  100000  1000000  65709219  66030414  110269360  266252528  508261521   \n461  100000  1000000  65709219  66030414  110269360  266252528  508261521   \n462  100000  1000000  65709219  66030414  110269360  266252528  508261521   \n463  100000  1000000  65709219  66030414  110269360  266252528  508261521   \n\n           cycles  flops/cycle   E/V  runtime           function  \n448  1.013740e+12     0.000501  10.0  334.771           Baseline  \n449  6.503470e+10     0.007815  10.0  26.4943             Inline  \n450  6.327540e+10     0.008033  10.0  26.3702        Inline+simd  \n451  6.545990e+09     0.077645  10.0  2.48136                 V1  \n452  5.149570e+09     0.098700  10.0  1.94514               V1Mg  \n453  5.087880e+09     0.099897  10.0  2.01144           V1MgSIMD  \n454  4.871110e+09     0.104342  10.0  1.99276          V1MgSIMD2  \n455  5.413440e+09     0.093889  10.0  2.07083             V1MgRd  \n456  5.399230e+09     0.094136  10.0  2.15648         V1MgRdSIMD  \n457  3.439130e+09     0.147788  10.0  1.34638             V1MgBS  \n458  3.223880e+09     0.157655  10.0  1.37369         V1MgBSSIMD  \n459  4.644360e+09     0.109436  10.0   1.8233               V2Mg  \n460  4.724890e+09     0.107571  10.0  1.84443           V2MgSIMD  \n461  3.080700e+09     0.164983  10.0  1.22871             V2MgBS  \n462  3.047610e+09     0.166774  10.0  1.22927         V2MgBSSIMD  \n463  3.268150e+09     0.155520  10.0  1.30685  V2MgSearch_nofree  ",
      "text/html": "<div>\n<style scoped>\n    .dataframe tbody tr th:only-of-type {\n        vertical-align: middle;\n    }\n\n    .dataframe tbody tr th {\n        vertical-align: top;\n    }\n\n    .dataframe thead th {\n        text-align: right;\n    }\n</style>\n<table border=\"1\" class=\"dataframe\">\n  <thead>\n    <tr style=\"text-align: right;\">\n      <th></th>\n      <th>V</th>\n      <th>E</th>\n      <th>flops</th>\n      <th>flcomps</th>\n      <th>intops</th>\n      <th>intcomps</th>\n      <th>total</th>\n      <th>cycles</th>\n      <th>flops/cycle</th>\n      <th>E/V</th>\n      <th>runtime</th>\n      <th>function</th>\n    </tr>\n  </thead>\n  <tbody>\n    <tr>\n      <th>448</th>\n      <td>100000</td>\n      <td>1000000</td>\n      <td>65709219</td>\n      <td>66030414</td>\n      <td>110269360</td>\n      <td>266252528</td>\n      <td>508261521</td>\n      <td>1.013740e+12</td>\n      <td>0.000501</td>\n      <td>10.0</td>\n      <td>334.771</td>\n      <td>Baseline</td>\n    </tr>\n    <tr>\n      <th>449</th>\n      <td>100000</td>\n      <td>1000000</td>\n      <td>65709219</td>\n      <td>66030414</td>\n      <td>110269360</td>\n      <td>266252528</td>\n      <td>508261521</td>\n      <td>6.503470e+10</td>\n      <td>0.007815</td>\n      <td>10.0</td>\n      <td>26.4943</td>\n      <td>Inline</td>\n    </tr>\n    <tr>\n      <th>450</th>\n      <td>100000</td>\n      <td>1000000</td>\n      <td>65709219</td>\n      <td>66030414</td>\n      <td>110269360</td>\n      <td>266252528</td>\n      <td>508261521</td>\n      <td>6.327540e+10</td>\n      <td>0.008033</td>\n      <td>10.0</td>\n      <td>26.3702</td>\n      <td>Inline+simd</td>\n    </tr>\n    <tr>\n      <th>451</th>\n      <td>100000</td>\n      <td>1000000</td>\n      <td>65709219</td>\n      <td>66030414</td>\n      <td>110269360</td>\n      <td>266252528</td>\n      <td>508261521</td>\n      <td>6.545990e+09</td>\n      <td>0.077645</td>\n      <td>10.0</td>\n      <td>2.48136</td>\n      <td>V1</td>\n    </tr>\n    <tr>\n      <th>452</th>\n      <td>100000</td>\n      <td>1000000</td>\n      <td>65709219</td>\n      <td>66030414</td>\n      <td>110269360</td>\n      <td>266252528</td>\n      <td>508261521</td>\n      <td>5.149570e+09</td>\n      <td>0.098700</td>\n      <td>10.0</td>\n      <td>1.94514</td>\n      <td>V1Mg</td>\n    </tr>\n    <tr>\n      <th>453</th>\n      <td>100000</td>\n      <td>1000000</td>\n      <td>65709219</td>\n      <td>66030414</td>\n      <td>110269360</td>\n      <td>266252528</td>\n      <td>508261521</td>\n      <td>5.087880e+09</td>\n      <td>0.099897</td>\n      <td>10.0</td>\n      <td>2.01144</td>\n      <td>V1MgSIMD</td>\n    </tr>\n    <tr>\n      <th>454</th>\n      <td>100000</td>\n      <td>1000000</td>\n      <td>65709219</td>\n      <td>66030414</td>\n      <td>110269360</td>\n      <td>266252528</td>\n      <td>508261521</td>\n      <td>4.871110e+09</td>\n      <td>0.104342</td>\n      <td>10.0</td>\n      <td>1.99276</td>\n      <td>V1MgSIMD2</td>\n    </tr>\n    <tr>\n      <th>455</th>\n      <td>100000</td>\n      <td>1000000</td>\n      <td>65709219</td>\n      <td>66030414</td>\n      <td>110269360</td>\n      <td>266252528</td>\n      <td>508261521</td>\n      <td>5.413440e+09</td>\n      <td>0.093889</td>\n      <td>10.0</td>\n      <td>2.07083</td>\n      <td>V1MgRd</td>\n    </tr>\n    <tr>\n      <th>456</th>\n      <td>100000</td>\n      <td>1000000</td>\n      <td>65709219</td>\n      <td>66030414</td>\n      <td>110269360</td>\n      <td>266252528</td>\n      <td>508261521</td>\n      <td>5.399230e+09</td>\n      <td>0.094136</td>\n      <td>10.0</td>\n      <td>2.15648</td>\n      <td>V1MgRdSIMD</td>\n    </tr>\n    <tr>\n      <th>457</th>\n      <td>100000</td>\n      <td>1000000</td>\n      <td>65709219</td>\n      <td>66030414</td>\n      <td>110269360</td>\n      <td>266252528</td>\n      <td>508261521</td>\n      <td>3.439130e+09</td>\n      <td>0.147788</td>\n      <td>10.0</td>\n      <td>1.34638</td>\n      <td>V1MgBS</td>\n    </tr>\n    <tr>\n      <th>458</th>\n      <td>100000</td>\n      <td>1000000</td>\n      <td>65709219</td>\n      <td>66030414</td>\n      <td>110269360</td>\n      <td>266252528</td>\n      <td>508261521</td>\n      <td>3.223880e+09</td>\n      <td>0.157655</td>\n      <td>10.0</td>\n      <td>1.37369</td>\n      <td>V1MgBSSIMD</td>\n    </tr>\n    <tr>\n      <th>459</th>\n      <td>100000</td>\n      <td>1000000</td>\n      <td>65709219</td>\n      <td>66030414</td>\n      <td>110269360</td>\n      <td>266252528</td>\n      <td>508261521</td>\n      <td>4.644360e+09</td>\n      <td>0.109436</td>\n      <td>10.0</td>\n      <td>1.8233</td>\n      <td>V2Mg</td>\n    </tr>\n    <tr>\n      <th>460</th>\n      <td>100000</td>\n      <td>1000000</td>\n      <td>65709219</td>\n      <td>66030414</td>\n      <td>110269360</td>\n      <td>266252528</td>\n      <td>508261521</td>\n      <td>4.724890e+09</td>\n      <td>0.107571</td>\n      <td>10.0</td>\n      <td>1.84443</td>\n      <td>V2MgSIMD</td>\n    </tr>\n    <tr>\n      <th>461</th>\n      <td>100000</td>\n      <td>1000000</td>\n      <td>65709219</td>\n      <td>66030414</td>\n      <td>110269360</td>\n      <td>266252528</td>\n      <td>508261521</td>\n      <td>3.080700e+09</td>\n      <td>0.164983</td>\n      <td>10.0</td>\n      <td>1.22871</td>\n      <td>V2MgBS</td>\n    </tr>\n    <tr>\n      <th>462</th>\n      <td>100000</td>\n      <td>1000000</td>\n      <td>65709219</td>\n      <td>66030414</td>\n      <td>110269360</td>\n      <td>266252528</td>\n      <td>508261521</td>\n      <td>3.047610e+09</td>\n      <td>0.166774</td>\n      <td>10.0</td>\n      <td>1.22927</td>\n      <td>V2MgBSSIMD</td>\n    </tr>\n    <tr>\n      <th>463</th>\n      <td>100000</td>\n      <td>1000000</td>\n      <td>65709219</td>\n      <td>66030414</td>\n      <td>110269360</td>\n      <td>266252528</td>\n      <td>508261521</td>\n      <td>3.268150e+09</td>\n      <td>0.155520</td>\n      <td>10.0</td>\n      <td>1.30685</td>\n      <td>V2MgSearch_nofree</td>\n    </tr>\n  </tbody>\n</table>\n</div>"
     },
     "metadata": {},
     "execution_count": 260
    }
   ],
   "source": [
    "res.loc[(res['V']==100000)&(res['E']==1000000)]"
   ]
  },
  {
   "cell_type": "code",
   "execution_count": 20,
   "metadata": {},
   "outputs": [
    {
     "output_type": "stream",
     "name": "stdout",
     "text": "compared to julia: max: 2281.9982658574, median: 8.490342537638632, min: 1.2827387894058504\ncompared to baseline: max: 164.05770099654282, median: 11.7881855112931, min: 1.1186267877390401\n"
    }
   ],
   "source": [
    "import statistics\n",
    "\n",
    "speedup_julia = []\n",
    "speedup_baseline = []\n",
    "func_alias = ['Baseline', 'Inline', 'Inline+simd', 'V1', 'V1Mg', 'V1MgSIMD', 'V1MgSIMD2', 'V1MgRd', 'V1MgRdSIMD', 'V1MgBS', 'V1MgBSSIMD', 'V2Mg','V2MgSIMD', 'V2MgBS', 'V2MgBSSIMD', 'V2MgSearch_nofree']\n",
    "\n",
    "for i, row in res.iterrows():\n",
    "    if row['function'] == 'V1MgRdSIMD':\n",
    "        julia = julia_df.loc[(julia_df['V']==row['V'])&(julia_df['E']==row['E'])]\n",
    "        sj = float(julia['runtime'])/float(row['runtime'])\n",
    "        baseline = res.loc[(res['V']==row['V'])&(res['E']==row['E'])&(res['function']=='Baseline')]\n",
    "        sb = float(baseline['runtime'])/float(row['runtime'])\n",
    "        speedup_julia.append(sj)\n",
    "        speedup_baseline.append(sb)\n",
    "\n",
    "print(f\"compared to julia: max: {max(speedup_julia)}, median: {statistics.median(speedup_julia)}, min: {min(speedup_julia)}\")\n",
    "print(f\"compared to baseline: max: {max(speedup_baseline)}, median: {statistics.median(speedup_baseline)}, min: {min(speedup_baseline)}\")"
   ]
  },
  {
   "cell_type": "code",
   "execution_count": 21,
   "metadata": {},
   "outputs": [
    {
     "output_type": "stream",
     "name": "stdout",
     "text": "baseline: 0.05940302896632848, V1MgRdSIMD: 0.042088552647897806, V: 100, E: 200, s:0.7085253627682004\nbaseline: 0.06870596880607903, V1MgRdSIMD: 0.0732538862456993, V: 100, E: 500, s:1.0661939205377724\nbaseline: 0.06708671349426197, V1MgRdSIMD: 0.08549558409138189, V: 100, E: 1000, s:1.2744041202539227\nbaseline: 0.0721104628158346, V1MgRdSIMD: 0.10035749873258396, V: 100, E: 2000, s:1.3917189657885076\nbaseline: 0.012895429666868404, V1MgRdSIMD: 0.05070433763562585, V: 1000, E: 2000, s:3.931961861332781\nbaseline: 0.0215875000635366, V1MgRdSIMD: 0.05878243057141473, V: 1000, E: 5000, s:2.722984616023419\nbaseline: 0.01833588691840592, V1MgRdSIMD: 0.05539796612640634, V: 1000, E: 10000, s:3.0212864189731\nbaseline: 0.01961773008670336, V1MgRdSIMD: 0.0651572337781177, V: 1000, E: 20000, s:3.321344186618228\nbaseline: 0.021108317552295596, V1MgRdSIMD: 0.061631274524792334, V: 1000, E: 25000, s:2.919762523569281\nbaseline: 0.02128297705049524, V1MgRdSIMD: 0.08639818000317043, V: 1000, E: 40000, s:4.059496930254877\nbaseline: 0.0027749317406143346, V1MgRdSIMD: 0.046959939470249165, V: 5000, E: 10000, s:16.922916979519226\nbaseline: 0.004047713107091508, V1MgRdSIMD: 0.051130665877794294, V: 5000, E: 20000, s:12.631988613079926\nbaseline: 0.004596940253884561, V1MgRdSIMD: 0.05091146698028333, V: 5000, E: 25000, s:11.075076935633767\nbaseline: 0.005310652128209645, V1MgRdSIMD: 0.04576755756216518, V: 5000, E: 40000, s:8.618067321535252\nbaseline: 0.005477422900368526, V1MgRdSIMD: 0.04478372928969507, V: 5000, E: 50000, s:8.176058358882965\nbaseline: 0.006039260784566074, V1MgRdSIMD: 0.05519861421521675, V: 5000, E: 80000, s:9.139962022551211\nbaseline: 0.0061746698637925495, V1MgRdSIMD: 0.051103338502645354, V: 5000, E: 100000, s:8.27628676997107\nbaseline: 0.0013757791103975825, V1MgRdSIMD: 0.04355660920327788, V: 10000, E: 20000, s:31.659594824557683\nbaseline: 0.0016948941460981958, V1MgRdSIMD: 0.043389577070183996, V: 10000, E: 25000, s:25.600169290849724\nbaseline: 0.002283525908278737, V1MgRdSIMD: 0.04470141074967938, V: 10000, E: 40000, s:19.57560918736155\nbaseline: 0.002535261869592741, V1MgRdSIMD: 0.04613018237665579, V: 10000, E: 50000, s:18.19543098483394\nbaseline: 0.0030569766512192594, V1MgRdSIMD: 0.0497418029034947, V: 10000, E: 80000, s:16.27156781968074\nbaseline: 0.0032110419043957887, V1MgRdSIMD: 0.046006173614161316, V: 10000, E: 100000, s:14.327490884245607\nbaseline: 0.00023138499225325572, V1MgRdSIMD: 0.03304205223267009, V: 50000, E: 80000, s:142.8011899600855\nbaseline: 0.0003080011830890697, V1MgRdSIMD: 0.037429902291599426, V: 50000, E: 100000, s:121.52518998855668\nbaseline: 0.0007808133106527749, V1MgRdSIMD: 0.0354010306432318, V: 50000, E: 500000, s:45.33866182895353\nbaseline: 0.0004922130863000376, V1MgRdSIMD: 0.0408944312420597, V: 50000, E: 1000000, s:83.08277934961637\nbaseline: 0.0003293913286980187, V1MgRdSIMD: 0.035660636778470436, V: 100000, E: 500000, s:108.26222086484736\nbaseline: 0.00021997432362161812, V1MgRdSIMD: 0.03689464019154003, V: 100000, E: 1000000, s:167.72248498876252\ncompared to baseline: max: 167.72248498876252, median: 11.075076935633767, min: 0.7085253627682004\n"
    }
   ],
   "source": [
    "import statistics\n",
    "\n",
    "speedup_baseline_ops_cycle = []\n",
    "func_alias = ['Baseline', 'Inline', 'Inline+simd', 'V1', 'V1Mg', 'V1MgSIMD', 'V1MgSIMD2', 'V1MgRd', 'V1MgRdSIMD', 'V1MgBS', 'V1MgBSSIMD', 'V2Mg','V2MgSIMD', 'V2MgBS', 'V2MgBSSIMD', 'V2MgSearch_nofree']\n",
    "\n",
    "for i, row in res.iterrows():\n",
    "    if row['function'] == 'V1MgRdSIMD':\n",
    "        baseline = res.loc[(res['V']==row['V'])&(res['E']==row['E'])&(res['function']=='Baseline')]\n",
    "        base_pf = float(baseline['intops']+baseline['flops'])/float(baseline['cycles'])\n",
    "        curr = float(row['intops']+row['flops'])/float(row['cycles'])\n",
    "        s = float(curr)/float(base_pf)\n",
    "        print(f\"baseline: {base_pf}, {row['function']}: {curr}, V: {row['V']}, E: {row['E']}, s:{s}\")\n",
    "        speedup_baseline_ops_cycle.append(s)\n",
    "\n",
    "print(f\"compared to baseline: max: {max(speedup_baseline_ops_cycle)}, median: {statistics.median(speedup_baseline_ops_cycle)}, min: {min(speedup_baseline_ops_cycle)}\")"
   ]
  },
  {
   "cell_type": "code",
   "execution_count": null,
   "metadata": {},
   "outputs": [],
   "source": [
    "V2MgBS\n",
    "compared to julia: max: 3695.9282721583936, median: 19.696940920256274, min: 2.2880402830595905\n",
    "compared to baseline: max: 775.7476765681582, median: 19.141701850242146, min: 1.3720831069911974\n",
    "V2MgBSSIMD\n",
    "compared to julia: max: 5550.294898089245, median: 19.41691526143016, min: 2.1788746121853775\n",
    "compared to baseline: max: 764.7190983187088, median: 18.068909434570468, min: 1.3431445727176219"
   ]
  },
  {
   "cell_type": "code",
   "execution_count": 218,
   "metadata": {},
   "outputs": [],
   "source": [
    "datalist = []\n",
    "header=['V','E','Ir','I1mr','ILmr','Dr','D1mr','DLmr','Dw','D1mw','DLmw','Bc','Bcm','Bi','Bim','function']\n",
    "with open(\"./cache_deg5.log\", 'r') as f:\n",
    "    for line in f:\n",
    "        line = line.split()\n",
    "        num = [int(x.replace(',', '').strip()) for x in line[:-1]]\n",
    "        num.append(line[-1])\n",
    "        datalist.append(num)\n",
    "res_mem = pd.DataFrame(datalist, columns=header)\n",
    "res_mem['Data Read Miss'] = res_mem['D1mr']+res_mem['DLmr']\n",
    "res_mem['Data Write Miss'] = res_mem['D1mw']+res_mem['DLmw']\n",
    "res_mem['Instr Miss'] = res_mem['I1mr']+res_mem['ILmr']\n",
    "res_mem['LL miss rate'] = (res_mem['ILmr'] + res_mem['DLmr'] + res_mem['DLmw']) / (res_mem['Ir'] + res_mem['Dr'] + res_mem['Dw']) *100\n",
    "res_mem['mem'] = res_mem['Dr'] + res_mem['Dw']\n",
    "res_mem['branch miss rate'] = res_mem['Bcm']/res_mem['Bc']*100\n",
    "res_mem.convert_dtypes()\n",
    "res_mem_cycle = [] \n",
    "res_mem_flops = []\n",
    "res_mem_intops = []\n",
    "res_mem_flcomps = []\n",
    "res_mem_intcomps = []\n",
    "res_mem_runtime = []\n",
    "for idx, row in res_mem.iterrows():\n",
    "    same = res.loc[(res['V']==row['V'])&(res['E']==row['E'])&(res['function']==row['function'])]\n",
    "    res_mem_cycle.append(float(same['cycles']))\n",
    "    res_mem_flops.append(float(same['flops']))\n",
    "    res_mem_intops.append(float(same['intops']))\n",
    "    res_mem_flcomps.append(float(same['flcomps']))\n",
    "    res_mem_intcomps.append(float(same['intcomps']))\n",
    "    res_mem_runtime.append(float(same['runtime']))\n",
    "res_mem['flops'] = res_mem_flops\n",
    "res_mem['cycles'] = res_mem_cycle\n",
    "res_mem['flcomps'] = res_mem_flcomps\n",
    "res_mem['intcomps'] = res_mem_intcomps\n",
    "res_mem['intops'] = res_mem_intops\n",
    "res_mem['runtime'] = res_mem_runtime\n",
    "res_mem['flops/cycle'] = res_mem['flops']/res_mem['cycles']\n",
    "res_mem['E/V'] = res_mem['E']/res_mem['V']"
   ]
  },
  {
   "cell_type": "code",
   "execution_count": 211,
   "metadata": {},
   "outputs": [],
   "source": [
    "res_mem.to_csv(\"res_cache.csv\")"
   ]
  },
  {
   "cell_type": "code",
   "execution_count": 212,
   "metadata": {},
   "outputs": [
    {
     "output_type": "execute_result",
     "data": {
      "text/plain": "[173388.0,\n 92100.0,\n 103118.0,\n 82034.0,\n 85494.0,\n 96880.0,\n 74744.0,\n 80216.0,\n 97051.0,\n 101861.0,\n 87828.0,\n 70809.0,\n 11247777.0,\n 1612436.0,\n 1921934.0,\n 1715568.0,\n 1627350.0,\n 1480016.0,\n 1569058.0,\n 1720822.0,\n 1499257.0,\n 1512940.0,\n 1394248.0,\n 1128531.0,\n 258214519.0,\n 11257017.0,\n 12668295.0,\n 11743171.0,\n 11216568.0,\n 10006899.0,\n 10566751.0,\n 11174122.0,\n 9462684.0,\n 8986908.0,\n 9212729.0,\n 7281127.0,\n 1018249942.0,\n 25487773.0,\n 26416887.0,\n 28269676.0,\n 25285358.0,\n 22524608.0,\n 23752038.0,\n 24791249.0,\n 20379026.0,\n 19176061.0,\n 19506509.0,\n 15786225.0]"
     },
     "metadata": {},
     "execution_count": 212
    }
   ],
   "source": [
    "avg_mem = []\n",
    "avg_mem.extend(res_mem['mem'][0:12]/1000)\n",
    "avg_mem.extend(res_mem['mem'][12:24]/10)\n",
    "avg_mem.extend(res_mem['mem'][24:36]/3)\n",
    "# avg_mem.extend(res_mem['mem'][36:48]/1)\n",
    "avg_mem"
   ]
  },
  {
   "cell_type": "code",
   "execution_count": 213,
   "metadata": {},
   "outputs": [],
   "source": [
    "res_mem['avg_mem'] = avg_mem"
   ]
  },
  {
   "cell_type": "code",
   "execution_count": 214,
   "metadata": {},
   "outputs": [],
   "source": [
    "clip = res_mem.loc[(res_mem['V']==10000) & (res_mem['function'].isin(['Baseline','V1','V1Mg','V2Mg']))]\n",
    "#V=10000, E=100000\n",
    "cmp = clip[['D1mr', 'D1mw', 'Dr','Dw', 'LL miss rate', 'Bc', 'branch miss rate','runtime','function']]\n",
    "cmp.to_csv('cmp.csv')"
   ]
  },
  {
   "cell_type": "code",
   "execution_count": 215,
   "metadata": {},
   "outputs": [
    {
     "output_type": "display_data",
     "data": {
      "application/vnd.plotly.v1+json": {
       "config": {
        "plotlyServerURL": "https://plot.ly"
       },
       "data": [
        {
         "line": {
          "color": "#e1cc55",
          "width": 3
         },
         "marker": {
          "size": 10,
          "symbol": "circle"
         },
         "mode": "lines+markers",
         "name": "V1Mg",
         "type": "scatter",
         "x": [
          100,
          1000,
          5000,
          10000
         ],
         "y": [
          11.665855777584708,
          12.254350700320241,
          12.610139578674003,
          12.713406910475559
         ]
        },
        {
         "line": {
          "color": "#ad981f",
          "width": 3
         },
         "marker": {
          "size": 10,
          "symbol": "square"
         },
         "mode": "lines+markers",
         "name": "V1MgBS",
         "type": "scatter",
         "x": [
          100,
          1000,
          5000,
          10000
         ],
         "y": [
          8.94075295296131,
          8.064191746488895,
          7.540947476978947,
          7.383481025502266
         ]
        },
        {
         "line": {
          "color": "#808080",
          "width": 3
         },
         "marker": {
          "size": 10,
          "symbol": "diamond"
         },
         "mode": "lines+markers",
         "name": "V1MgBSSIMD",
         "type": "scatter",
         "x": [
          100,
          1000,
          5000,
          10000
         ],
         "y": [
          6.671389632971474,
          4.634740157875582,
          3.8344920124733437,
          3.6377149479551236
         ]
        }
       ],
       "layout": {
        "legend": {
         "traceorder": "normal"
        },
        "margin": {
         "autoexpand": true,
         "l": 40,
         "r": 20,
         "t": 40
        },
        "plot_bgcolor": "#eeeeee",
        "showlegend": true,
        "template": {
         "data": {
          "bar": [
           {
            "error_x": {
             "color": "#2a3f5f"
            },
            "error_y": {
             "color": "#2a3f5f"
            },
            "marker": {
             "line": {
              "color": "#E5ECF6",
              "width": 0.5
             }
            },
            "type": "bar"
           }
          ],
          "barpolar": [
           {
            "marker": {
             "line": {
              "color": "#E5ECF6",
              "width": 0.5
             }
            },
            "type": "barpolar"
           }
          ],
          "carpet": [
           {
            "aaxis": {
             "endlinecolor": "#2a3f5f",
             "gridcolor": "white",
             "linecolor": "white",
             "minorgridcolor": "white",
             "startlinecolor": "#2a3f5f"
            },
            "baxis": {
             "endlinecolor": "#2a3f5f",
             "gridcolor": "white",
             "linecolor": "white",
             "minorgridcolor": "white",
             "startlinecolor": "#2a3f5f"
            },
            "type": "carpet"
           }
          ],
          "choropleth": [
           {
            "colorbar": {
             "outlinewidth": 0,
             "ticks": ""
            },
            "type": "choropleth"
           }
          ],
          "contour": [
           {
            "colorbar": {
             "outlinewidth": 0,
             "ticks": ""
            },
            "colorscale": [
             [
              0,
              "#0d0887"
             ],
             [
              0.1111111111111111,
              "#46039f"
             ],
             [
              0.2222222222222222,
              "#7201a8"
             ],
             [
              0.3333333333333333,
              "#9c179e"
             ],
             [
              0.4444444444444444,
              "#bd3786"
             ],
             [
              0.5555555555555556,
              "#d8576b"
             ],
             [
              0.6666666666666666,
              "#ed7953"
             ],
             [
              0.7777777777777778,
              "#fb9f3a"
             ],
             [
              0.8888888888888888,
              "#fdca26"
             ],
             [
              1,
              "#f0f921"
             ]
            ],
            "type": "contour"
           }
          ],
          "contourcarpet": [
           {
            "colorbar": {
             "outlinewidth": 0,
             "ticks": ""
            },
            "type": "contourcarpet"
           }
          ],
          "heatmap": [
           {
            "colorbar": {
             "outlinewidth": 0,
             "ticks": ""
            },
            "colorscale": [
             [
              0,
              "#0d0887"
             ],
             [
              0.1111111111111111,
              "#46039f"
             ],
             [
              0.2222222222222222,
              "#7201a8"
             ],
             [
              0.3333333333333333,
              "#9c179e"
             ],
             [
              0.4444444444444444,
              "#bd3786"
             ],
             [
              0.5555555555555556,
              "#d8576b"
             ],
             [
              0.6666666666666666,
              "#ed7953"
             ],
             [
              0.7777777777777778,
              "#fb9f3a"
             ],
             [
              0.8888888888888888,
              "#fdca26"
             ],
             [
              1,
              "#f0f921"
             ]
            ],
            "type": "heatmap"
           }
          ],
          "heatmapgl": [
           {
            "colorbar": {
             "outlinewidth": 0,
             "ticks": ""
            },
            "colorscale": [
             [
              0,
              "#0d0887"
             ],
             [
              0.1111111111111111,
              "#46039f"
             ],
             [
              0.2222222222222222,
              "#7201a8"
             ],
             [
              0.3333333333333333,
              "#9c179e"
             ],
             [
              0.4444444444444444,
              "#bd3786"
             ],
             [
              0.5555555555555556,
              "#d8576b"
             ],
             [
              0.6666666666666666,
              "#ed7953"
             ],
             [
              0.7777777777777778,
              "#fb9f3a"
             ],
             [
              0.8888888888888888,
              "#fdca26"
             ],
             [
              1,
              "#f0f921"
             ]
            ],
            "type": "heatmapgl"
           }
          ],
          "histogram": [
           {
            "marker": {
             "colorbar": {
              "outlinewidth": 0,
              "ticks": ""
             }
            },
            "type": "histogram"
           }
          ],
          "histogram2d": [
           {
            "colorbar": {
             "outlinewidth": 0,
             "ticks": ""
            },
            "colorscale": [
             [
              0,
              "#0d0887"
             ],
             [
              0.1111111111111111,
              "#46039f"
             ],
             [
              0.2222222222222222,
              "#7201a8"
             ],
             [
              0.3333333333333333,
              "#9c179e"
             ],
             [
              0.4444444444444444,
              "#bd3786"
             ],
             [
              0.5555555555555556,
              "#d8576b"
             ],
             [
              0.6666666666666666,
              "#ed7953"
             ],
             [
              0.7777777777777778,
              "#fb9f3a"
             ],
             [
              0.8888888888888888,
              "#fdca26"
             ],
             [
              1,
              "#f0f921"
             ]
            ],
            "type": "histogram2d"
           }
          ],
          "histogram2dcontour": [
           {
            "colorbar": {
             "outlinewidth": 0,
             "ticks": ""
            },
            "colorscale": [
             [
              0,
              "#0d0887"
             ],
             [
              0.1111111111111111,
              "#46039f"
             ],
             [
              0.2222222222222222,
              "#7201a8"
             ],
             [
              0.3333333333333333,
              "#9c179e"
             ],
             [
              0.4444444444444444,
              "#bd3786"
             ],
             [
              0.5555555555555556,
              "#d8576b"
             ],
             [
              0.6666666666666666,
              "#ed7953"
             ],
             [
              0.7777777777777778,
              "#fb9f3a"
             ],
             [
              0.8888888888888888,
              "#fdca26"
             ],
             [
              1,
              "#f0f921"
             ]
            ],
            "type": "histogram2dcontour"
           }
          ],
          "mesh3d": [
           {
            "colorbar": {
             "outlinewidth": 0,
             "ticks": ""
            },
            "type": "mesh3d"
           }
          ],
          "parcoords": [
           {
            "line": {
             "colorbar": {
              "outlinewidth": 0,
              "ticks": ""
             }
            },
            "type": "parcoords"
           }
          ],
          "pie": [
           {
            "automargin": true,
            "type": "pie"
           }
          ],
          "scatter": [
           {
            "marker": {
             "colorbar": {
              "outlinewidth": 0,
              "ticks": ""
             }
            },
            "type": "scatter"
           }
          ],
          "scatter3d": [
           {
            "line": {
             "colorbar": {
              "outlinewidth": 0,
              "ticks": ""
             }
            },
            "marker": {
             "colorbar": {
              "outlinewidth": 0,
              "ticks": ""
             }
            },
            "type": "scatter3d"
           }
          ],
          "scattercarpet": [
           {
            "marker": {
             "colorbar": {
              "outlinewidth": 0,
              "ticks": ""
             }
            },
            "type": "scattercarpet"
           }
          ],
          "scattergeo": [
           {
            "marker": {
             "colorbar": {
              "outlinewidth": 0,
              "ticks": ""
             }
            },
            "type": "scattergeo"
           }
          ],
          "scattergl": [
           {
            "marker": {
             "colorbar": {
              "outlinewidth": 0,
              "ticks": ""
             }
            },
            "type": "scattergl"
           }
          ],
          "scattermapbox": [
           {
            "marker": {
             "colorbar": {
              "outlinewidth": 0,
              "ticks": ""
             }
            },
            "type": "scattermapbox"
           }
          ],
          "scatterpolar": [
           {
            "marker": {
             "colorbar": {
              "outlinewidth": 0,
              "ticks": ""
             }
            },
            "type": "scatterpolar"
           }
          ],
          "scatterpolargl": [
           {
            "marker": {
             "colorbar": {
              "outlinewidth": 0,
              "ticks": ""
             }
            },
            "type": "scatterpolargl"
           }
          ],
          "scatterternary": [
           {
            "marker": {
             "colorbar": {
              "outlinewidth": 0,
              "ticks": ""
             }
            },
            "type": "scatterternary"
           }
          ],
          "surface": [
           {
            "colorbar": {
             "outlinewidth": 0,
             "ticks": ""
            },
            "colorscale": [
             [
              0,
              "#0d0887"
             ],
             [
              0.1111111111111111,
              "#46039f"
             ],
             [
              0.2222222222222222,
              "#7201a8"
             ],
             [
              0.3333333333333333,
              "#9c179e"
             ],
             [
              0.4444444444444444,
              "#bd3786"
             ],
             [
              0.5555555555555556,
              "#d8576b"
             ],
             [
              0.6666666666666666,
              "#ed7953"
             ],
             [
              0.7777777777777778,
              "#fb9f3a"
             ],
             [
              0.8888888888888888,
              "#fdca26"
             ],
             [
              1,
              "#f0f921"
             ]
            ],
            "type": "surface"
           }
          ],
          "table": [
           {
            "cells": {
             "fill": {
              "color": "#EBF0F8"
             },
             "line": {
              "color": "white"
             }
            },
            "header": {
             "fill": {
              "color": "#C8D4E3"
             },
             "line": {
              "color": "white"
             }
            },
            "type": "table"
           }
          ]
         },
         "layout": {
          "annotationdefaults": {
           "arrowcolor": "#2a3f5f",
           "arrowhead": 0,
           "arrowwidth": 1
          },
          "coloraxis": {
           "colorbar": {
            "outlinewidth": 0,
            "ticks": ""
           }
          },
          "colorscale": {
           "diverging": [
            [
             0,
             "#8e0152"
            ],
            [
             0.1,
             "#c51b7d"
            ],
            [
             0.2,
             "#de77ae"
            ],
            [
             0.3,
             "#f1b6da"
            ],
            [
             0.4,
             "#fde0ef"
            ],
            [
             0.5,
             "#f7f7f7"
            ],
            [
             0.6,
             "#e6f5d0"
            ],
            [
             0.7,
             "#b8e186"
            ],
            [
             0.8,
             "#7fbc41"
            ],
            [
             0.9,
             "#4d9221"
            ],
            [
             1,
             "#276419"
            ]
           ],
           "sequential": [
            [
             0,
             "#0d0887"
            ],
            [
             0.1111111111111111,
             "#46039f"
            ],
            [
             0.2222222222222222,
             "#7201a8"
            ],
            [
             0.3333333333333333,
             "#9c179e"
            ],
            [
             0.4444444444444444,
             "#bd3786"
            ],
            [
             0.5555555555555556,
             "#d8576b"
            ],
            [
             0.6666666666666666,
             "#ed7953"
            ],
            [
             0.7777777777777778,
             "#fb9f3a"
            ],
            [
             0.8888888888888888,
             "#fdca26"
            ],
            [
             1,
             "#f0f921"
            ]
           ],
           "sequentialminus": [
            [
             0,
             "#0d0887"
            ],
            [
             0.1111111111111111,
             "#46039f"
            ],
            [
             0.2222222222222222,
             "#7201a8"
            ],
            [
             0.3333333333333333,
             "#9c179e"
            ],
            [
             0.4444444444444444,
             "#bd3786"
            ],
            [
             0.5555555555555556,
             "#d8576b"
            ],
            [
             0.6666666666666666,
             "#ed7953"
            ],
            [
             0.7777777777777778,
             "#fb9f3a"
            ],
            [
             0.8888888888888888,
             "#fdca26"
            ],
            [
             1,
             "#f0f921"
            ]
           ]
          },
          "colorway": [
           "#636efa",
           "#EF553B",
           "#00cc96",
           "#ab63fa",
           "#FFA15A",
           "#19d3f3",
           "#FF6692",
           "#B6E880",
           "#FF97FF",
           "#FECB52"
          ],
          "font": {
           "color": "#2a3f5f"
          },
          "geo": {
           "bgcolor": "white",
           "lakecolor": "white",
           "landcolor": "#E5ECF6",
           "showlakes": true,
           "showland": true,
           "subunitcolor": "white"
          },
          "hoverlabel": {
           "align": "left"
          },
          "hovermode": "closest",
          "mapbox": {
           "style": "light"
          },
          "paper_bgcolor": "white",
          "plot_bgcolor": "#E5ECF6",
          "polar": {
           "angularaxis": {
            "gridcolor": "white",
            "linecolor": "white",
            "ticks": ""
           },
           "bgcolor": "#E5ECF6",
           "radialaxis": {
            "gridcolor": "white",
            "linecolor": "white",
            "ticks": ""
           }
          },
          "scene": {
           "xaxis": {
            "backgroundcolor": "#E5ECF6",
            "gridcolor": "white",
            "gridwidth": 2,
            "linecolor": "white",
            "showbackground": true,
            "ticks": "",
            "zerolinecolor": "white"
           },
           "yaxis": {
            "backgroundcolor": "#E5ECF6",
            "gridcolor": "white",
            "gridwidth": 2,
            "linecolor": "white",
            "showbackground": true,
            "ticks": "",
            "zerolinecolor": "white"
           },
           "zaxis": {
            "backgroundcolor": "#E5ECF6",
            "gridcolor": "white",
            "gridwidth": 2,
            "linecolor": "white",
            "showbackground": true,
            "ticks": "",
            "zerolinecolor": "white"
           }
          },
          "shapedefaults": {
           "line": {
            "color": "#2a3f5f"
           }
          },
          "ternary": {
           "aaxis": {
            "gridcolor": "white",
            "linecolor": "white",
            "ticks": ""
           },
           "baxis": {
            "gridcolor": "white",
            "linecolor": "white",
            "ticks": ""
           },
           "bgcolor": "#E5ECF6",
           "caxis": {
            "gridcolor": "white",
            "linecolor": "white",
            "ticks": ""
           }
          },
          "title": {
           "x": 0.05
          },
          "xaxis": {
           "automargin": true,
           "gridcolor": "white",
           "linecolor": "white",
           "ticks": "",
           "title": {
            "standoff": 15
           },
           "zerolinecolor": "white",
           "zerolinewidth": 2
          },
          "yaxis": {
           "automargin": true,
           "gridcolor": "white",
           "linecolor": "white",
           "ticks": "",
           "title": {
            "standoff": 15
           },
           "zerolinecolor": "white",
           "zerolinewidth": 2
          }
         }
        },
        "xaxis": {
         "linecolor": "rgb(0, 0, 0)",
         "linewidth": 2,
         "rangemode": "tozero",
         "showgrid": false,
         "showline": true,
         "tickfont": {
          "color": "#000000",
          "size": 20
         },
         "ticks": "outside",
         "tickwidth": 3
        },
        "yaxis": {
         "rangemode": "tozero",
         "showline": false,
         "showticklabels": true,
         "tickfont": {
          "color": "#000000",
          "size": 20
         },
         "zeroline": false
        }
       }
      }
     },
     "metadata": {}
    }
   ],
   "source": [
    "fig = go.Figure()\n",
    "# for idx, e in enumerate(ploted_edge):\n",
    "colors=px.colors.sequential.Cividis[::-1]\n",
    "\n",
    "major_improvement = [ 'V1Mg', 'V1MgBS', 'V1MgBSSIMD']\n",
    "colors = ['#e1cc55', '#ad981f',  '#808080', '#669999',  '#006080', '#000b1a']\n",
    "\n",
    "for j, func in enumerate(major_improvement):\n",
    "    same = res_mem.loc[res_mem['function']==func] # same['Data Read Miss']+same['Data Write Miss']\n",
    "    fig.add_trace(go.Scatter(x=same[\"V\"], y=(same['branch miss rate']), name=f\"{func}\",\n",
    "                            mode='lines+markers', marker=dict(symbol=marker_symbols[j],size=10),\n",
    "                            line=dict(color=colors[j], width=3)))\n",
    "\n",
    "fig.update_layout(xaxis=dict(showline=True, showgrid=False, rangemode=\"tozero\",\n",
    "                             linecolor='rgb(0, 0, 0)', linewidth=2,\n",
    "                             tickwidth=3, tickfont=num_font, ticks='outside'),\n",
    "                  yaxis=dict(tickfont=num_font, zeroline=False, showticklabels=True, rangemode=\"tozero\",\n",
    "                             showline=False),\n",
    "                  showlegend=True, legend=dict(traceorder=\"normal\"),\n",
    "                  margin=dict(autoexpand=True, l=40, r=20, t=40),\n",
    "                  plot_bgcolor=\"#eeeeee\"\n",
    "                  )\n",
    "fig.show()\n",
    "#fig.write_image(\"b-miss_deg5.pdf\")"
   ]
  },
  {
   "cell_type": "code",
   "execution_count": 185,
   "metadata": {},
   "outputs": [
    {
     "output_type": "display_data",
     "data": {
      "application/vnd.plotly.v1+json": {
       "config": {
        "plotlyServerURL": "https://plot.ly"
       },
       "data": [
        {
         "line": {
          "color": "#e1cc55",
          "width": 1
         },
         "marker": {
          "size": 6,
          "symbol": "square"
         },
         "mode": "lines+markers",
         "name": "Baseline",
         "type": "scatter",
         "x": [
          0.14882806191893325,
          0.03775910564371964,
          0.010629034380518316,
          0.005899635003367375
         ],
         "y": [
          0.054844742938513526,
          0.020902120203949052,
          0.0045475077584821375,
          0.0025744959050994476
         ]
        },
        {
         "line": {
          "color": "#ad981f",
          "width": 1
         },
         "marker": {
          "size": 6,
          "symbol": "diamond"
         },
         "mode": "lines+markers",
         "name": "Inline",
         "type": "scatter",
         "x": [
          0.3018340468336959,
          0.26098012105570406,
          0.2446890171753071,
          0.23758030240267905
         ],
         "y": [
          0.0886042047940008,
          0.04794977256074361,
          0.018250297569571434,
          0.010378121528635572
         ]
        },
        {
         "line": {
          "color": "#808080",
          "width": 1
         },
         "marker": {
          "size": 6,
          "symbol": "cross"
         },
         "mode": "lines+markers",
         "name": "V1",
         "type": "scatter",
         "x": [
          0.3145646926883975,
          0.26339401997970774,
          0.24380979437092437,
          0.23569352253725737
         ],
         "y": [
          0.07382369853725801,
          0.05276263856674498,
          0.0483416146333301,
          0.04379490263835123
         ]
        },
        {
         "line": {
          "color": "#669999",
          "width": 1
         },
         "marker": {
          "size": 6,
          "symbol": "triangle-up-open"
         },
         "mode": "lines+markers",
         "name": "V1MgSIMD",
         "type": "scatter",
         "x": [
          0.26636044591246905,
          0.24680414360113945,
          0.24561849244173278,
          0.2423154638154778
         ],
         "y": [
          0.068672691660812,
          0.05661478495483678,
          0.051407339006194194,
          0.04810768627074124
         ]
        },
        {
         "line": {
          "color": "#006080",
          "width": 1
         },
         "marker": {
          "size": 6,
          "symbol": "pentagon"
         },
         "mode": "lines+markers",
         "name": "V1MgBSSIMD",
         "type": "scatter",
         "x": [
          0.2533354276906765,
          0.2807156926249554,
          0.2979107493555927,
          0.3079640237010118
         ],
         "y": [
          0.09211136890951276,
          0.08684590437474694,
          0.08494835756313315,
          0.0834954140299134
         ]
        },
        {
         "line": {
          "color": "#000b1a",
          "width": 1
         },
         "marker": {
          "size": 6,
          "symbol": "hexagram"
         },
         "mode": "lines+markers",
         "name": "V2MgBSSIMD",
         "type": "scatter",
         "x": [
          0.2938129070455891,
          0.3046129526454404,
          0.30539658356355714,
          0.31327095799288496
         ],
         "y": [
          0.12229336189451635,
          0.09589943684997268,
          0.0873811176343237,
          0.09474718272650563
         ]
        },
        {
         "line": {
          "color": "#8c8c8c",
          "width": 1
         },
         "mode": "lines",
         "showlegend": false,
         "type": "scatter",
         "x": [
          0,
          0.01,
          0.02,
          0.03,
          0.04,
          0.05,
          0.06,
          0.07,
          0.08,
          0.09,
          0.1,
          0.11,
          0.12,
          0.13,
          0.14,
          0.15,
          0.16,
          0.17,
          0.18,
          0.19,
          0.2,
          0.21,
          0.22,
          0.23,
          0.24,
          0.25,
          0.26,
          0.27,
          0.28,
          0.29,
          0.3,
          0.31,
          0.32,
          0.33,
          0.34,
          0.35000000000000003,
          0.36,
          0.37,
          0.38,
          0.39,
          0.4,
          0.41000000000000003,
          0.42,
          0.43,
          0.44,
          0.45,
          0.46,
          0.47000000000000003,
          0.48,
          0.49
         ],
         "y": [
          0,
          0.041600000000000005,
          0.08320000000000001,
          0.1248,
          0.16640000000000002,
          0.20800000000000002,
          0.2496,
          0.2912,
          0.33280000000000004,
          0.3744,
          0.41600000000000004,
          0.4576,
          0.4992,
          0.5408000000000001,
          0.5824,
          0.624,
          0.6656000000000001,
          0.7072,
          0.7488,
          0.7904,
          0.8320000000000001,
          0.8736,
          0.9152,
          0.9568000000000001,
          0.9984,
          1.04,
          1.0816000000000001,
          1.1232000000000002,
          1.1648,
          1.2064,
          1.248,
          1.2896,
          1.3312000000000002,
          1.3728,
          1.4144,
          1.4560000000000002,
          1.4976,
          1.5392000000000001,
          1.5808,
          1.6224,
          1.6640000000000001,
          1.7056000000000002,
          1.7472,
          1.7888,
          1.8304,
          1.872,
          1.9136000000000002,
          1.9552000000000003,
          1.9968,
          2.0384
         ]
        }
       ],
       "layout": {
        "legend": {
         "font": {
          "color": "#000000",
          "size": 16
         },
         "orientation": "h",
         "traceorder": "normal",
         "valign": "top",
         "x": 0,
         "xanchor": "left",
         "y": 1.3,
         "yanchor": "top"
        },
        "margin": {
         "autoexpand": false,
         "b": 60,
         "l": 70,
         "r": 20,
         "t": 100
        },
        "plot_bgcolor": "#eeeeee",
        "showlegend": true,
        "template": {
         "data": {
          "bar": [
           {
            "error_x": {
             "color": "#2a3f5f"
            },
            "error_y": {
             "color": "#2a3f5f"
            },
            "marker": {
             "line": {
              "color": "#E5ECF6",
              "width": 0.5
             }
            },
            "type": "bar"
           }
          ],
          "barpolar": [
           {
            "marker": {
             "line": {
              "color": "#E5ECF6",
              "width": 0.5
             }
            },
            "type": "barpolar"
           }
          ],
          "carpet": [
           {
            "aaxis": {
             "endlinecolor": "#2a3f5f",
             "gridcolor": "white",
             "linecolor": "white",
             "minorgridcolor": "white",
             "startlinecolor": "#2a3f5f"
            },
            "baxis": {
             "endlinecolor": "#2a3f5f",
             "gridcolor": "white",
             "linecolor": "white",
             "minorgridcolor": "white",
             "startlinecolor": "#2a3f5f"
            },
            "type": "carpet"
           }
          ],
          "choropleth": [
           {
            "colorbar": {
             "outlinewidth": 0,
             "ticks": ""
            },
            "type": "choropleth"
           }
          ],
          "contour": [
           {
            "colorbar": {
             "outlinewidth": 0,
             "ticks": ""
            },
            "colorscale": [
             [
              0,
              "#0d0887"
             ],
             [
              0.1111111111111111,
              "#46039f"
             ],
             [
              0.2222222222222222,
              "#7201a8"
             ],
             [
              0.3333333333333333,
              "#9c179e"
             ],
             [
              0.4444444444444444,
              "#bd3786"
             ],
             [
              0.5555555555555556,
              "#d8576b"
             ],
             [
              0.6666666666666666,
              "#ed7953"
             ],
             [
              0.7777777777777778,
              "#fb9f3a"
             ],
             [
              0.8888888888888888,
              "#fdca26"
             ],
             [
              1,
              "#f0f921"
             ]
            ],
            "type": "contour"
           }
          ],
          "contourcarpet": [
           {
            "colorbar": {
             "outlinewidth": 0,
             "ticks": ""
            },
            "type": "contourcarpet"
           }
          ],
          "heatmap": [
           {
            "colorbar": {
             "outlinewidth": 0,
             "ticks": ""
            },
            "colorscale": [
             [
              0,
              "#0d0887"
             ],
             [
              0.1111111111111111,
              "#46039f"
             ],
             [
              0.2222222222222222,
              "#7201a8"
             ],
             [
              0.3333333333333333,
              "#9c179e"
             ],
             [
              0.4444444444444444,
              "#bd3786"
             ],
             [
              0.5555555555555556,
              "#d8576b"
             ],
             [
              0.6666666666666666,
              "#ed7953"
             ],
             [
              0.7777777777777778,
              "#fb9f3a"
             ],
             [
              0.8888888888888888,
              "#fdca26"
             ],
             [
              1,
              "#f0f921"
             ]
            ],
            "type": "heatmap"
           }
          ],
          "heatmapgl": [
           {
            "colorbar": {
             "outlinewidth": 0,
             "ticks": ""
            },
            "colorscale": [
             [
              0,
              "#0d0887"
             ],
             [
              0.1111111111111111,
              "#46039f"
             ],
             [
              0.2222222222222222,
              "#7201a8"
             ],
             [
              0.3333333333333333,
              "#9c179e"
             ],
             [
              0.4444444444444444,
              "#bd3786"
             ],
             [
              0.5555555555555556,
              "#d8576b"
             ],
             [
              0.6666666666666666,
              "#ed7953"
             ],
             [
              0.7777777777777778,
              "#fb9f3a"
             ],
             [
              0.8888888888888888,
              "#fdca26"
             ],
             [
              1,
              "#f0f921"
             ]
            ],
            "type": "heatmapgl"
           }
          ],
          "histogram": [
           {
            "marker": {
             "colorbar": {
              "outlinewidth": 0,
              "ticks": ""
             }
            },
            "type": "histogram"
           }
          ],
          "histogram2d": [
           {
            "colorbar": {
             "outlinewidth": 0,
             "ticks": ""
            },
            "colorscale": [
             [
              0,
              "#0d0887"
             ],
             [
              0.1111111111111111,
              "#46039f"
             ],
             [
              0.2222222222222222,
              "#7201a8"
             ],
             [
              0.3333333333333333,
              "#9c179e"
             ],
             [
              0.4444444444444444,
              "#bd3786"
             ],
             [
              0.5555555555555556,
              "#d8576b"
             ],
             [
              0.6666666666666666,
              "#ed7953"
             ],
             [
              0.7777777777777778,
              "#fb9f3a"
             ],
             [
              0.8888888888888888,
              "#fdca26"
             ],
             [
              1,
              "#f0f921"
             ]
            ],
            "type": "histogram2d"
           }
          ],
          "histogram2dcontour": [
           {
            "colorbar": {
             "outlinewidth": 0,
             "ticks": ""
            },
            "colorscale": [
             [
              0,
              "#0d0887"
             ],
             [
              0.1111111111111111,
              "#46039f"
             ],
             [
              0.2222222222222222,
              "#7201a8"
             ],
             [
              0.3333333333333333,
              "#9c179e"
             ],
             [
              0.4444444444444444,
              "#bd3786"
             ],
             [
              0.5555555555555556,
              "#d8576b"
             ],
             [
              0.6666666666666666,
              "#ed7953"
             ],
             [
              0.7777777777777778,
              "#fb9f3a"
             ],
             [
              0.8888888888888888,
              "#fdca26"
             ],
             [
              1,
              "#f0f921"
             ]
            ],
            "type": "histogram2dcontour"
           }
          ],
          "mesh3d": [
           {
            "colorbar": {
             "outlinewidth": 0,
             "ticks": ""
            },
            "type": "mesh3d"
           }
          ],
          "parcoords": [
           {
            "line": {
             "colorbar": {
              "outlinewidth": 0,
              "ticks": ""
             }
            },
            "type": "parcoords"
           }
          ],
          "pie": [
           {
            "automargin": true,
            "type": "pie"
           }
          ],
          "scatter": [
           {
            "marker": {
             "colorbar": {
              "outlinewidth": 0,
              "ticks": ""
             }
            },
            "type": "scatter"
           }
          ],
          "scatter3d": [
           {
            "line": {
             "colorbar": {
              "outlinewidth": 0,
              "ticks": ""
             }
            },
            "marker": {
             "colorbar": {
              "outlinewidth": 0,
              "ticks": ""
             }
            },
            "type": "scatter3d"
           }
          ],
          "scattercarpet": [
           {
            "marker": {
             "colorbar": {
              "outlinewidth": 0,
              "ticks": ""
             }
            },
            "type": "scattercarpet"
           }
          ],
          "scattergeo": [
           {
            "marker": {
             "colorbar": {
              "outlinewidth": 0,
              "ticks": ""
             }
            },
            "type": "scattergeo"
           }
          ],
          "scattergl": [
           {
            "marker": {
             "colorbar": {
              "outlinewidth": 0,
              "ticks": ""
             }
            },
            "type": "scattergl"
           }
          ],
          "scattermapbox": [
           {
            "marker": {
             "colorbar": {
              "outlinewidth": 0,
              "ticks": ""
             }
            },
            "type": "scattermapbox"
           }
          ],
          "scatterpolar": [
           {
            "marker": {
             "colorbar": {
              "outlinewidth": 0,
              "ticks": ""
             }
            },
            "type": "scatterpolar"
           }
          ],
          "scatterpolargl": [
           {
            "marker": {
             "colorbar": {
              "outlinewidth": 0,
              "ticks": ""
             }
            },
            "type": "scatterpolargl"
           }
          ],
          "scatterternary": [
           {
            "marker": {
             "colorbar": {
              "outlinewidth": 0,
              "ticks": ""
             }
            },
            "type": "scatterternary"
           }
          ],
          "surface": [
           {
            "colorbar": {
             "outlinewidth": 0,
             "ticks": ""
            },
            "colorscale": [
             [
              0,
              "#0d0887"
             ],
             [
              0.1111111111111111,
              "#46039f"
             ],
             [
              0.2222222222222222,
              "#7201a8"
             ],
             [
              0.3333333333333333,
              "#9c179e"
             ],
             [
              0.4444444444444444,
              "#bd3786"
             ],
             [
              0.5555555555555556,
              "#d8576b"
             ],
             [
              0.6666666666666666,
              "#ed7953"
             ],
             [
              0.7777777777777778,
              "#fb9f3a"
             ],
             [
              0.8888888888888888,
              "#fdca26"
             ],
             [
              1,
              "#f0f921"
             ]
            ],
            "type": "surface"
           }
          ],
          "table": [
           {
            "cells": {
             "fill": {
              "color": "#EBF0F8"
             },
             "line": {
              "color": "white"
             }
            },
            "header": {
             "fill": {
              "color": "#C8D4E3"
             },
             "line": {
              "color": "white"
             }
            },
            "type": "table"
           }
          ]
         },
         "layout": {
          "annotationdefaults": {
           "arrowcolor": "#2a3f5f",
           "arrowhead": 0,
           "arrowwidth": 1
          },
          "coloraxis": {
           "colorbar": {
            "outlinewidth": 0,
            "ticks": ""
           }
          },
          "colorscale": {
           "diverging": [
            [
             0,
             "#8e0152"
            ],
            [
             0.1,
             "#c51b7d"
            ],
            [
             0.2,
             "#de77ae"
            ],
            [
             0.3,
             "#f1b6da"
            ],
            [
             0.4,
             "#fde0ef"
            ],
            [
             0.5,
             "#f7f7f7"
            ],
            [
             0.6,
             "#e6f5d0"
            ],
            [
             0.7,
             "#b8e186"
            ],
            [
             0.8,
             "#7fbc41"
            ],
            [
             0.9,
             "#4d9221"
            ],
            [
             1,
             "#276419"
            ]
           ],
           "sequential": [
            [
             0,
             "#0d0887"
            ],
            [
             0.1111111111111111,
             "#46039f"
            ],
            [
             0.2222222222222222,
             "#7201a8"
            ],
            [
             0.3333333333333333,
             "#9c179e"
            ],
            [
             0.4444444444444444,
             "#bd3786"
            ],
            [
             0.5555555555555556,
             "#d8576b"
            ],
            [
             0.6666666666666666,
             "#ed7953"
            ],
            [
             0.7777777777777778,
             "#fb9f3a"
            ],
            [
             0.8888888888888888,
             "#fdca26"
            ],
            [
             1,
             "#f0f921"
            ]
           ],
           "sequentialminus": [
            [
             0,
             "#0d0887"
            ],
            [
             0.1111111111111111,
             "#46039f"
            ],
            [
             0.2222222222222222,
             "#7201a8"
            ],
            [
             0.3333333333333333,
             "#9c179e"
            ],
            [
             0.4444444444444444,
             "#bd3786"
            ],
            [
             0.5555555555555556,
             "#d8576b"
            ],
            [
             0.6666666666666666,
             "#ed7953"
            ],
            [
             0.7777777777777778,
             "#fb9f3a"
            ],
            [
             0.8888888888888888,
             "#fdca26"
            ],
            [
             1,
             "#f0f921"
            ]
           ]
          },
          "colorway": [
           "#636efa",
           "#EF553B",
           "#00cc96",
           "#ab63fa",
           "#FFA15A",
           "#19d3f3",
           "#FF6692",
           "#B6E880",
           "#FF97FF",
           "#FECB52"
          ],
          "font": {
           "color": "#2a3f5f"
          },
          "geo": {
           "bgcolor": "white",
           "lakecolor": "white",
           "landcolor": "#E5ECF6",
           "showlakes": true,
           "showland": true,
           "subunitcolor": "white"
          },
          "hoverlabel": {
           "align": "left"
          },
          "hovermode": "closest",
          "mapbox": {
           "style": "light"
          },
          "paper_bgcolor": "white",
          "plot_bgcolor": "#E5ECF6",
          "polar": {
           "angularaxis": {
            "gridcolor": "white",
            "linecolor": "white",
            "ticks": ""
           },
           "bgcolor": "#E5ECF6",
           "radialaxis": {
            "gridcolor": "white",
            "linecolor": "white",
            "ticks": ""
           }
          },
          "scene": {
           "xaxis": {
            "backgroundcolor": "#E5ECF6",
            "gridcolor": "white",
            "gridwidth": 2,
            "linecolor": "white",
            "showbackground": true,
            "ticks": "",
            "zerolinecolor": "white"
           },
           "yaxis": {
            "backgroundcolor": "#E5ECF6",
            "gridcolor": "white",
            "gridwidth": 2,
            "linecolor": "white",
            "showbackground": true,
            "ticks": "",
            "zerolinecolor": "white"
           },
           "zaxis": {
            "backgroundcolor": "#E5ECF6",
            "gridcolor": "white",
            "gridwidth": 2,
            "linecolor": "white",
            "showbackground": true,
            "ticks": "",
            "zerolinecolor": "white"
           }
          },
          "shapedefaults": {
           "line": {
            "color": "#2a3f5f"
           }
          },
          "ternary": {
           "aaxis": {
            "gridcolor": "white",
            "linecolor": "white",
            "ticks": ""
           },
           "baxis": {
            "gridcolor": "white",
            "linecolor": "white",
            "ticks": ""
           },
           "bgcolor": "#E5ECF6",
           "caxis": {
            "gridcolor": "white",
            "linecolor": "white",
            "ticks": ""
           }
          },
          "title": {
           "x": 0.05
          },
          "xaxis": {
           "automargin": true,
           "gridcolor": "white",
           "linecolor": "white",
           "ticks": "",
           "title": {
            "standoff": 15
           },
           "zerolinecolor": "white",
           "zerolinewidth": 2
          },
          "yaxis": {
           "automargin": true,
           "gridcolor": "white",
           "linecolor": "white",
           "ticks": "",
           "title": {
            "standoff": 15
           },
           "zerolinecolor": "white",
           "zerolinewidth": 2
          }
         }
        },
        "xaxis": {
         "linecolor": "rgb(0, 0, 0)",
         "linewidth": 2,
         "rangemode": "normal",
         "showgrid": true,
         "showline": true,
         "tickfont": {
          "color": "#000000",
          "size": 20
         },
         "ticks": "outside",
         "ticktext": [
          "0.001",
          "",
          "",
          "",
          "",
          "0.01",
          "",
          "",
          "",
          "",
          "0.1",
          "",
          "",
          "",
          "",
          "1"
         ],
         "tickvals": [
          0.001,
          0.002,
          0.003,
          0.004,
          0.005,
          0.01,
          0.02,
          0.03,
          0.04,
          0.05,
          0.1,
          0.2,
          0.3,
          0.4,
          0.5,
          1
         ],
         "tickwidth": 3,
         "type": "log"
        },
        "yaxis": {
         "rangemode": "nonnegative",
         "showline": true,
         "showticklabels": true,
         "tickfont": {
          "color": "#000000",
          "size": 20
         },
         "ticktext": [
          "",
          "0.001",
          "",
          "",
          "",
          "",
          "0.01",
          "",
          "",
          "",
          "",
          "0.1",
          "",
          "",
          "",
          "",
          "1"
         ],
         "tickvals": [
          0.0005,
          0.001,
          0.002,
          0.003,
          0.004,
          0.005,
          0.01,
          0.02,
          0.03,
          0.04,
          0.05,
          0.1,
          0.2,
          0.3,
          0.4,
          0.5,
          1
         ],
         "type": "log",
         "zeroline": false
        }
       }
      }
     },
     "metadata": {}
    }
   ],
   "source": [
    "# flops/cycle vs oi\n",
    "fig = go.Figure()\n",
    "\n",
    "# func_alias = ['Inline', 'Inline+simd', 'Vec', 'VecMg', 'VecMgSIMD', 'VecMgSIMDcsum', 'VecMgRand', 'VecMgRandSIMD', 'VecStructMg','VecStructMgSIMD']\n",
    "\n",
    "major_improvement = ['Baseline', 'Inline', 'V1', 'V1MgSIMD', 'V1MgBSSIMD', 'V2MgBSSIMD']\n",
    "#colors=px.colors.sequential.Cividis[::-1]\n",
    "colors = ['#e1cc55', '#ad981f',  '#808080', '#669999',  '#006080', '#000b1a']\n",
    "\n",
    "for j, func in enumerate(major_improvement):\n",
    "    same = res_mem.loc[(res_mem['function']==func)]\n",
    "    fig.add_trace(go.Scatter(x=(same[\"intops\"]+same[\"flops\"])/same[\"avg_mem\"],\n",
    "                             y=(same[\"intops\"]+same[\"flops\"])/same['cycles'], \n",
    "                             name=f\"{func}\",\n",
    "                             mode='lines+markers', marker=dict(symbol=marker_symbols[j+1],size=6),\n",
    "                             line=dict(color=colors[j], width=1)))\n",
    "\n",
    "txval=[0.001,0.002,0.003,0.004,0.005,0.01,0.02,0.03,0.04,0.05,0.1,0.2,0.3,0.4,0.5,1] \n",
    "txtxt=['' for i in range(len(txval))] \n",
    "txtxt[0]='0.001'\n",
    "txtxt[5]='0.01'\n",
    "txtxt[10]='0.1'\n",
    "txtxt[-1]='1'\n",
    "\n",
    "tyval=[0.0005,0.001,0.002,0.003,0.004,0.005,0.01, 0.02,0.03,0.04,0.05,0.1, 0.2,0.3,0.4,0.5,1] \n",
    "tytxt=['' for i in range(len(tyval))] \n",
    "tytxt[1]='0.001'\n",
    "tytxt[6]='0.01'\n",
    "tytxt[11]='0.1'\n",
    "tytxt[-1]='1'\n",
    "legend_font=dict(size=16,color='#000000')\n",
    "\n",
    "fig.update_layout(xaxis=dict(showline=True, showgrid=True,\n",
    "                             linecolor='rgb(0, 0, 0)', linewidth=2,rangemode=\"normal\",\n",
    "                             tickwidth=3, tickfont=num_font, ticks='outside',tickvals=txval,ticktext=txtxt),\n",
    "                  yaxis=dict(tickfont=num_font, zeroline=False, showticklabels=True,\n",
    "                             rangemode=\"nonnegative\", tickvals=tyval,ticktext=tytxt,\n",
    "                             showline=True),\n",
    "                  showlegend=True, legend=dict(orientation='h', valign='top', x=0, y=1.3, yanchor='top',xanchor='left',\n",
    "                                     traceorder=\"normal\", font=legend_font),\n",
    "                  margin=dict(autoexpand=False, l=70, r=20, t=100,b=60),\n",
    "                  plot_bgcolor=\"#eeeeee\"\n",
    "                  )\n",
    "fig.update_xaxes(type=\"log\")\n",
    "fig.update_yaxes(type=\"log\")\n",
    "\n",
    "\n",
    "x_vals = [i*0.01 for i in range(50)]\n",
    "y_vals = [4.16*i for i in x_vals]\n",
    "fig.add_trace(go.Scatter(x=x_vals, y=y_vals, showlegend=False,\n",
    "                            mode='lines',#marker=dict(symbol=marker_symbols[j],size=5),\n",
    "                            line=dict(color=\"#8c8c8c\", width=1))\n",
    "                            )\n",
    "\n",
    "fig.show()\n",
    "fig.write_image(\"intflops_roofline_deg5.pdf\")"
   ]
  },
  {
   "cell_type": "code",
   "execution_count": 203,
   "metadata": {},
   "outputs": [
    {
     "output_type": "execute_result",
     "data": {
      "text/plain": "       V       E            Ir  I1mr  ILmr           Dr        D1mr   DLmr  \\\n0  50000  250000  100339902878    38    38  12568027824  3128352412  62458   \n1  50000  250000     518905470    45    45    108564092     7590267    433   \n2  50000  250000     444884508    48    48    118308877     2445675     43   \n3  50000  250000     405351098    40    40     94851610       76317      2   \n4  50000  250000     397631185    42    42    101330134       77177      3   \n\n            Dw        D1mw  ...       Bcm  Bi  Bim  function  Data Read Miss  \\\n0  12543605095  3128907574  ...   6620765   0    0  Baseline      3128414870   \n1     52401904      985835  ...  14462270   0    0        V1         7590700   \n2     57258429     2807172  ...   8576980   0    0      V1Mg         2445718   \n3     47129571      585451  ...   9427757   0    0      V2Mg           76319   \n4     48037183      665127  ...   8789136   0    0  V2MgSIMD           77180   \n\n  Data Write Miss  Instr Miss  LL miss rate          mem  branch miss rate  \n0      3129311306          76      0.000372  25111632919          0.026437  \n1         1290743          90      0.044918    160965996         19.228388  \n2         3091402          96      0.045825    175567306         12.959265  \n3          881186          80      0.054040    141981181         16.195985  \n4          960012          84      0.053918    149367317         15.848094  \n\n[5 rows x 22 columns]",
      "text/html": "<div>\n<style scoped>\n    .dataframe tbody tr th:only-of-type {\n        vertical-align: middle;\n    }\n\n    .dataframe tbody tr th {\n        vertical-align: top;\n    }\n\n    .dataframe thead th {\n        text-align: right;\n    }\n</style>\n<table border=\"1\" class=\"dataframe\">\n  <thead>\n    <tr style=\"text-align: right;\">\n      <th></th>\n      <th>V</th>\n      <th>E</th>\n      <th>Ir</th>\n      <th>I1mr</th>\n      <th>ILmr</th>\n      <th>Dr</th>\n      <th>D1mr</th>\n      <th>DLmr</th>\n      <th>Dw</th>\n      <th>D1mw</th>\n      <th>...</th>\n      <th>Bcm</th>\n      <th>Bi</th>\n      <th>Bim</th>\n      <th>function</th>\n      <th>Data Read Miss</th>\n      <th>Data Write Miss</th>\n      <th>Instr Miss</th>\n      <th>LL miss rate</th>\n      <th>mem</th>\n      <th>branch miss rate</th>\n    </tr>\n  </thead>\n  <tbody>\n    <tr>\n      <th>0</th>\n      <td>50000</td>\n      <td>250000</td>\n      <td>100339902878</td>\n      <td>38</td>\n      <td>38</td>\n      <td>12568027824</td>\n      <td>3128352412</td>\n      <td>62458</td>\n      <td>12543605095</td>\n      <td>3128907574</td>\n      <td>...</td>\n      <td>6620765</td>\n      <td>0</td>\n      <td>0</td>\n      <td>Baseline</td>\n      <td>3128414870</td>\n      <td>3129311306</td>\n      <td>76</td>\n      <td>0.000372</td>\n      <td>25111632919</td>\n      <td>0.026437</td>\n    </tr>\n    <tr>\n      <th>1</th>\n      <td>50000</td>\n      <td>250000</td>\n      <td>518905470</td>\n      <td>45</td>\n      <td>45</td>\n      <td>108564092</td>\n      <td>7590267</td>\n      <td>433</td>\n      <td>52401904</td>\n      <td>985835</td>\n      <td>...</td>\n      <td>14462270</td>\n      <td>0</td>\n      <td>0</td>\n      <td>V1</td>\n      <td>7590700</td>\n      <td>1290743</td>\n      <td>90</td>\n      <td>0.044918</td>\n      <td>160965996</td>\n      <td>19.228388</td>\n    </tr>\n    <tr>\n      <th>2</th>\n      <td>50000</td>\n      <td>250000</td>\n      <td>444884508</td>\n      <td>48</td>\n      <td>48</td>\n      <td>118308877</td>\n      <td>2445675</td>\n      <td>43</td>\n      <td>57258429</td>\n      <td>2807172</td>\n      <td>...</td>\n      <td>8576980</td>\n      <td>0</td>\n      <td>0</td>\n      <td>V1Mg</td>\n      <td>2445718</td>\n      <td>3091402</td>\n      <td>96</td>\n      <td>0.045825</td>\n      <td>175567306</td>\n      <td>12.959265</td>\n    </tr>\n    <tr>\n      <th>3</th>\n      <td>50000</td>\n      <td>250000</td>\n      <td>405351098</td>\n      <td>40</td>\n      <td>40</td>\n      <td>94851610</td>\n      <td>76317</td>\n      <td>2</td>\n      <td>47129571</td>\n      <td>585451</td>\n      <td>...</td>\n      <td>9427757</td>\n      <td>0</td>\n      <td>0</td>\n      <td>V2Mg</td>\n      <td>76319</td>\n      <td>881186</td>\n      <td>80</td>\n      <td>0.054040</td>\n      <td>141981181</td>\n      <td>16.195985</td>\n    </tr>\n    <tr>\n      <th>4</th>\n      <td>50000</td>\n      <td>250000</td>\n      <td>397631185</td>\n      <td>42</td>\n      <td>42</td>\n      <td>101330134</td>\n      <td>77177</td>\n      <td>3</td>\n      <td>48037183</td>\n      <td>665127</td>\n      <td>...</td>\n      <td>8789136</td>\n      <td>0</td>\n      <td>0</td>\n      <td>V2MgSIMD</td>\n      <td>77180</td>\n      <td>960012</td>\n      <td>84</td>\n      <td>0.053918</td>\n      <td>149367317</td>\n      <td>15.848094</td>\n    </tr>\n  </tbody>\n</table>\n<p>5 rows × 22 columns</p>\n</div>"
     },
     "metadata": {},
     "execution_count": 203
    }
   ],
   "source": [
    "datalist = []\n",
    "header=['V','E','Ir','I1mr','ILmr','Dr','D1mr','DLmr','Dw','D1mw','DLmw','Bc','Bcm','Bi','Bim','function']\n",
    "with open(\"./cache.log\", 'r') as f:\n",
    "    for line in f:\n",
    "        line = line.split()\n",
    "        num = [int(x.replace(',', '').strip()) for x in line[:-1]]\n",
    "        num.append(line[-1])\n",
    "        datalist.append(num)\n",
    "res_mem = pd.DataFrame(datalist, columns=header)\n",
    "res_mem['Data Read Miss'] = res_mem['D1mr']+res_mem['DLmr']\n",
    "res_mem['Data Write Miss'] = res_mem['D1mw']+res_mem['DLmw']\n",
    "res_mem['Instr Miss'] = res_mem['I1mr']+res_mem['ILmr']\n",
    "res_mem['LL miss rate'] = (res_mem['ILmr'] + res_mem['DLmr'] + res_mem['DLmw']) / (res_mem['Ir'] + res_mem['Dr'] + res_mem['Dw']) *100\n",
    "res_mem['mem'] = res_mem['Dr'] + res_mem['Dw']\n",
    "res_mem['branch miss rate'] = res_mem['Bcm']/res_mem['Bc']*100\n",
    "res_mem.convert_dtypes()\n",
    "res_mem\n",
    "# res_mem_cycle = [] \n",
    "# res_mem_flops = []\n",
    "# res_mem_intops = []\n",
    "# res_mem_flcomps = []\n",
    "# res_mem_intcomps = []\n",
    "# res_mem_runtime = []\n",
    "# for idx, row in res_mem.iterrows():\n",
    "#     same = res.loc[(res['V']==row['V'])&(res['E']==row['E'])&(res['function']==row['function'])]\n",
    "#     res_mem_cycle.append(float(same['cycles']))\n",
    "#     res_mem_flops.append(float(same['flops']))\n",
    "#     res_mem_intops.append(float(same['intops']))\n",
    "#     res_mem_flcomps.append(float(same['flcomps']))\n",
    "#     res_mem_intcomps.append(float(same['intcomps']))\n",
    "#     res_mem_runtime.append(float(same['runtime']))\n",
    "# res_mem['flops'] = res_mem_flops\n",
    "# res_mem['cycles'] = res_mem_cycle\n",
    "# res_mem['flcomps'] = res_mem_flcomps\n",
    "# res_mem['intcomps'] = res_mem_intcomps\n",
    "# res_mem['intops'] = res_mem_intops\n",
    "# res_mem['runtime'] = res_mem_runtime\n",
    "# res_mem['flops/cycle'] = res_mem['flops']/res_mem['cycles']\n",
    "# res_mem['E/V'] = res_mem['E']/res_mem['V']"
   ]
  },
  {
   "cell_type": "code",
   "execution_count": 208,
   "metadata": {},
   "outputs": [
    {
     "output_type": "execute_result",
     "data": {
      "text/plain": "Empty DataFrame\nColumns: [V, E, flops, flcomps, intops, intcomps, total, cycles, flops/cycle, E/V, runtime, function]\nIndex: []",
      "text/html": "<div>\n<style scoped>\n    .dataframe tbody tr th:only-of-type {\n        vertical-align: middle;\n    }\n\n    .dataframe tbody tr th {\n        vertical-align: top;\n    }\n\n    .dataframe thead th {\n        text-align: right;\n    }\n</style>\n<table border=\"1\" class=\"dataframe\">\n  <thead>\n    <tr style=\"text-align: right;\">\n      <th></th>\n      <th>V</th>\n      <th>E</th>\n      <th>flops</th>\n      <th>flcomps</th>\n      <th>intops</th>\n      <th>intcomps</th>\n      <th>total</th>\n      <th>cycles</th>\n      <th>flops/cycle</th>\n      <th>E/V</th>\n      <th>runtime</th>\n      <th>function</th>\n    </tr>\n  </thead>\n  <tbody>\n  </tbody>\n</table>\n</div>"
     },
     "metadata": {},
     "execution_count": 208
    }
   ],
   "source": [
    "res.loc[(res['V']==5000) & (res['E']==250000)]"
   ]
  },
  {
   "cell_type": "code",
   "execution_count": null,
   "metadata": {},
   "outputs": [],
   "source": []
  }
 ],
 "metadata": {
  "kernelspec": {
   "display_name": "Python 3.7.4 64-bit ('base': conda)",
   "language": "python",
   "name": "python37464bitbaseconda7237268a33e24a329185d6db8be488e4"
  },
  "language_info": {
   "codemirror_mode": {
    "name": "ipython",
    "version": 3
   },
   "file_extension": ".py",
   "mimetype": "text/x-python",
   "name": "python",
   "nbconvert_exporter": "python",
   "pygments_lexer": "ipython3",
   "version": "3.7.4-final"
  }
 },
 "nbformat": 4,
 "nbformat_minor": 4
}